{
 "cells": [
  {
   "cell_type": "code",
   "execution_count": 45,
   "id": "9182e477",
   "metadata": {
    "execution": {
     "iopub.execute_input": "2025-08-27T17:11:52.421974Z",
     "iopub.status.busy": "2025-08-27T17:11:52.421656Z",
     "iopub.status.idle": "2025-08-27T17:11:52.426892Z",
     "shell.execute_reply": "2025-08-27T17:11:52.425965Z",
     "shell.execute_reply.started": "2025-08-27T17:11:52.421942Z"
    },
    "trusted": true
   },
   "outputs": [],
   "source": [
    "import torch\n",
    "import torch.nn as nn\n",
    "import torch.nn.functional as F     \n",
    "from torch.utils.data import DataLoader, Dataset, ConcatDataset\n",
    "from torchvision import transforms\n",
    "from PIL import Image\n",
    "import pandas as pd\n",
    "import os\n",
    "    "
   ]
  },
  {
   "cell_type": "code",
   "execution_count": 46,
   "id": "b960a1cd",
   "metadata": {
    "execution": {
     "iopub.execute_input": "2025-08-27T17:11:52.428546Z",
     "iopub.status.busy": "2025-08-27T17:11:52.428276Z",
     "iopub.status.idle": "2025-08-27T17:11:52.447447Z",
     "shell.execute_reply": "2025-08-27T17:11:52.446561Z",
     "shell.execute_reply.started": "2025-08-27T17:11:52.428528Z"
    },
    "trusted": true
   },
   "outputs": [],
   "source": [
    "# class CNN(nn.Module):\n",
    "#     def __init__(self, input_chnls, num_classes):\n",
    "#         super(CNN, self).__init__()\n",
    "#         self.conv1 = nn.Conv2d(in_channels = input_chnls, out_channels = 16, kernel_size = 5, stride = 1, padding = 2)\n",
    "#         self.pool = nn.MaxPool2d(kernel_size = 2, stride = 2, padding = 0)\n",
    "#         self.conv2 = nn.Conv2d(in_channels = 16, out_channels = 32, kernel_size = 5, stride = 1, padding = 2)\n",
    "#         self.fc1 = nn.Linear(32*62*25, 120)\n",
    "#         self.fc2 = nn.Linear(120, num_classes)\n",
    "#         self.dropout = nn.Dropout(0.3) \n",
    "\n",
    "#     def forward(self, x):\n",
    "#         x = self.pool(F.relu(self.conv1(x)))\n",
    "#         x = self.pool(F.relu(self.conv2(x)))\n",
    "#         x = x.view(x.size(0), -1)  # Flatten using batch size and -1 for auto calculation\n",
    "#         x = F.relu(self.fc1(x))\n",
    "#         x = self.dropout(x)  \n",
    "#         x = self.fc2(x)\n",
    "#         return x\n"
   ]
  },
  {
   "cell_type": "code",
   "execution_count": 47,
   "id": "bdb241dd",
   "metadata": {},
   "outputs": [],
   "source": [
    "class CNN(nn.Module):\n",
    "    def __init__(self, input_chnls, num_classes):\n",
    "        super(CNN, self).__init__()\n",
    "        self.conv1 = nn.Conv2d(input_chnls, 32, kernel_size=3, padding=1)\n",
    "        self.bn1 = nn.BatchNorm2d(32)\n",
    "        self.conv2 = nn.Conv2d(32, 64, kernel_size=3, padding=1)\n",
    "        self.bn2 = nn.BatchNorm2d(64)\n",
    "        self.conv3 = nn.Conv2d(64, 128, kernel_size=3, padding=1)\n",
    "        self.bn3 = nn.BatchNorm2d(128)\n",
    "        self.pool = nn.MaxPool2d(2, 2)\n",
    "        \n",
    "        # Adaptive pooling instead of hardcoding dimensions\n",
    "        self.gap = nn.AdaptiveAvgPool2d((4, 4))\n",
    "        self.fc1 = nn.Linear(128*4*4, 256)\n",
    "        self.fc2 = nn.Linear(256, num_classes)\n",
    "        self.dropout = nn.Dropout(0.5)\n",
    "\n",
    "    def forward(self, x):\n",
    "        x = self.pool(F.relu(self.bn1(self.conv1(x))))\n",
    "        x = self.pool(F.relu(self.bn2(self.conv2(x))))\n",
    "        x = self.pool(F.relu(self.bn3(self.conv3(x))))\n",
    "        x = self.gap(x)\n",
    "        x = x.view(x.size(0), -1)\n",
    "        x = F.relu(self.fc1(x))\n",
    "        x = self.dropout(x)\n",
    "        x = self.fc2(x)\n",
    "        return x\n"
   ]
  },
  {
   "cell_type": "code",
   "execution_count": 48,
   "id": "897bcc53",
   "metadata": {
    "execution": {
     "iopub.execute_input": "2025-08-27T17:11:52.448417Z",
     "iopub.status.busy": "2025-08-27T17:11:52.448188Z",
     "iopub.status.idle": "2025-08-27T17:11:52.464762Z",
     "shell.execute_reply": "2025-08-27T17:11:52.464077Z",
     "shell.execute_reply.started": "2025-08-27T17:11:52.448391Z"
    },
    "trusted": true
   },
   "outputs": [],
   "source": [
    "device = torch.device('cuda' if torch.cuda.is_available() else 'cpu')"
   ]
  },
  {
   "cell_type": "code",
   "execution_count": 49,
   "id": "9dabb46a",
   "metadata": {
    "execution": {
     "iopub.execute_input": "2025-08-27T17:11:52.466637Z",
     "iopub.status.busy": "2025-08-27T17:11:52.466389Z",
     "iopub.status.idle": "2025-08-27T17:11:52.483985Z",
     "shell.execute_reply": "2025-08-27T17:11:52.483118Z",
     "shell.execute_reply.started": "2025-08-27T17:11:52.466619Z"
    },
    "trusted": true
   },
   "outputs": [
    {
     "data": {
      "text/plain": [
       "device(type='cuda')"
      ]
     },
     "execution_count": 49,
     "metadata": {},
     "output_type": "execute_result"
    }
   ],
   "source": [
    "device"
   ]
  },
  {
   "cell_type": "code",
   "execution_count": 50,
   "id": "ef0b9062",
   "metadata": {
    "execution": {
     "iopub.execute_input": "2025-08-27T17:11:52.485182Z",
     "iopub.status.busy": "2025-08-27T17:11:52.484869Z",
     "iopub.status.idle": "2025-08-27T17:11:52.557288Z",
     "shell.execute_reply": "2025-08-27T17:11:52.556595Z",
     "shell.execute_reply.started": "2025-08-27T17:11:52.485135Z"
    },
    "trusted": true
   },
   "outputs": [],
   "source": [
    "model = CNN(3, 100).to(device)"
   ]
  },
  {
   "cell_type": "code",
   "execution_count": 51,
   "id": "e041e670",
   "metadata": {
    "execution": {
     "iopub.execute_input": "2025-08-27T17:11:52.558298Z",
     "iopub.status.busy": "2025-08-27T17:11:52.558057Z",
     "iopub.status.idle": "2025-08-27T17:11:52.564077Z",
     "shell.execute_reply": "2025-08-27T17:11:52.563439Z",
     "shell.execute_reply.started": "2025-08-27T17:11:52.558279Z"
    },
    "trusted": true
   },
   "outputs": [],
   "source": [
    "class CustomImageDataset(Dataset):\n",
    "    def __init__(self, csv_file, img_dir, transforms = None, class_to_idx = None):\n",
    "        self.labels_df = pd.read_csv(csv_file)\n",
    "        self.img_dir = img_dir \n",
    "        self.transforms = transforms\n",
    "        self.class_to_idx = class_to_idx\n",
    "\n",
    "\n",
    "\n",
    "    def __len__(self):\n",
    "        return len(self.labels_df)\n",
    "    \n",
    "    def __getitem__(self, idx):\n",
    "        img_name = self.labels_df.iloc[idx, 0]\n",
    "        img_path = os.path.join(self.img_dir, img_name)\n",
    "\n",
    "        image = Image.open(img_path)\n",
    "        label = self.labels_df.iloc[idx, 1]\n",
    "        y_label = self.class_to_idx[label]\n",
    "\n",
    "        if self.transforms:\n",
    "            image = self.transforms(image)\n",
    "\n",
    "        return image, y_label"
   ]
  },
  {
   "cell_type": "code",
   "execution_count": 52,
   "id": "8ccbddec",
   "metadata": {
    "execution": {
     "iopub.execute_input": "2025-08-27T17:11:52.565092Z",
     "iopub.status.busy": "2025-08-27T17:11:52.564859Z",
     "iopub.status.idle": "2025-08-27T17:11:52.582417Z",
     "shell.execute_reply": "2025-08-27T17:11:52.581518Z",
     "shell.execute_reply.started": "2025-08-27T17:11:52.565074Z"
    },
    "trusted": true
   },
   "outputs": [],
   "source": [
    "transform = transforms.Compose([\n",
    "    transforms.Resize((250, 100)),\n",
    "    transforms.ToTensor(),\n",
    "    transforms.Normalize((0.5, 0.5, 0.5), (0.5, 0.5, 0.5))\n",
    "])\n"
   ]
  },
  {
   "cell_type": "code",
   "execution_count": 53,
   "id": "341ac5cd",
   "metadata": {
    "execution": {
     "iopub.execute_input": "2025-08-27T17:11:52.605878Z",
     "iopub.status.busy": "2025-08-27T17:11:52.605589Z",
     "iopub.status.idle": "2025-08-27T17:11:52.612907Z",
     "shell.execute_reply": "2025-08-27T17:11:52.612333Z",
     "shell.execute_reply.started": "2025-08-27T17:11:52.605857Z"
    },
    "trusted": true
   },
   "outputs": [],
   "source": [
    "# with open('ai_wordlist.txt', 'r') as f:\n",
    "#     words = [line.strip() for line in f.readlines()]\n",
    "\n",
    "# class_to_idx = {word: idx for idx, word in enumerate(words)}\n",
    "\n",
    "# len(class_to_idx)\n",
    "\n"
   ]
  },
  {
   "cell_type": "code",
   "execution_count": 54,
   "id": "27e0fd6c",
   "metadata": {},
   "outputs": [
    {
     "name": "stdout",
     "output_type": "stream",
     "text": [
      "Classes found: 100\n",
      "[('adapt', 0), ('agents', 1), ('aiword1', 2), ('aiword10', 3), ('aiword11', 4), ('aiword12', 5), ('aiword13', 6), ('aiword2', 7), ('aiword3', 8), ('aiword4', 9)]\n"
     ]
    }
   ],
   "source": [
    "import pandas as pd\n",
    "\n",
    "# Collect labels from all csv files\n",
    "all_labels = []\n",
    "for file in [\n",
    "    \"captcha_images/train/labels_easy.csv\",\n",
    "    \"captcha_images/train/labels_hard.csv\",\n",
    "    \"captcha_images/test/labels_easy.csv\",\n",
    "    \"captcha_images/test/labels_hard.csv\"\n",
    "]:\n",
    "    df = pd.read_csv(file)\n",
    "    all_labels.extend(df.iloc[:, 1].tolist())  # assuming 2nd column = label\n",
    "\n",
    "unique_labels = sorted(set(all_labels))\n",
    "class_to_idx = {label: idx for idx, label in enumerate(unique_labels)}\n",
    "\n",
    "print(\"Classes found:\", len(class_to_idx))\n",
    "print(list(class_to_idx.items())[:10])  # sanity check\n",
    "\n"
   ]
  },
  {
   "cell_type": "code",
   "execution_count": 55,
   "id": "51187ff3",
   "metadata": {
    "execution": {
     "iopub.execute_input": "2025-08-27T17:11:52.614711Z",
     "iopub.status.busy": "2025-08-27T17:11:52.614473Z",
     "iopub.status.idle": "2025-08-27T17:11:52.641654Z",
     "shell.execute_reply": "2025-08-27T17:11:52.641022Z",
     "shell.execute_reply.started": "2025-08-27T17:11:52.614693Z"
    },
    "trusted": true
   },
   "outputs": [],
   "source": [
    "train_dataset_easy = CustomImageDataset(\n",
    "    csv_file = 'captcha_images/train/labels_easy.csv',\n",
    "    img_dir = 'captcha_images/train/easy',\n",
    "    transforms = transform,\n",
    "    class_to_idx = class_to_idx\n",
    ")\n",
    "\n",
    "train_dataset_hard = CustomImageDataset(\n",
    "    csv_file = 'captcha_images/train/labels_hard.csv',\n",
    "    img_dir = 'captcha_images/train/hard',\n",
    "    transforms = transform,\n",
    "    class_to_idx = class_to_idx\n",
    ")\n",
    "\n",
    "train_dataset = ConcatDataset([train_dataset_easy, train_dataset_hard])\n",
    "\n",
    "test_dataset_easy = CustomImageDataset(\n",
    "    csv_file = 'captcha_images/test/labels_easy.csv',\n",
    "    img_dir = 'captcha_images/test/easy',\n",
    "    transforms = transform,\n",
    "    class_to_idx = class_to_idx\n",
    ")\n",
    "\n",
    "test_dataset_hard = CustomImageDataset(\n",
    "    csv_file = 'captcha_images/test/labels_hard.csv',\n",
    "    img_dir = 'captcha_images/test/hard',\n",
    "    transforms = transform,\n",
    "    class_to_idx = class_to_idx\n",
    ")\n",
    "\n",
    "test_dataset = ConcatDataset([test_dataset_easy, test_dataset_hard])\n"
   ]
  },
  {
   "cell_type": "code",
   "execution_count": 56,
   "id": "1b2975c5",
   "metadata": {
    "execution": {
     "iopub.execute_input": "2025-08-27T17:11:52.642695Z",
     "iopub.status.busy": "2025-08-27T17:11:52.642422Z",
     "iopub.status.idle": "2025-08-27T17:11:52.647808Z",
     "shell.execute_reply": "2025-08-27T17:11:52.646905Z",
     "shell.execute_reply.started": "2025-08-27T17:11:52.642666Z"
    },
    "trusted": true
   },
   "outputs": [],
   "source": [
    "\n",
    "train_dataloader = DataLoader(train_dataset, batch_size = 8, shuffle = True)\n",
    "test_dataloader = DataLoader(test_dataset, batch_size = 8, shuffle = False)"
   ]
  },
  {
   "cell_type": "code",
   "execution_count": 57,
   "id": "fe9881ee",
   "metadata": {
    "execution": {
     "iopub.execute_input": "2025-08-27T17:11:52.649115Z",
     "iopub.status.busy": "2025-08-27T17:11:52.648825Z",
     "iopub.status.idle": "2025-08-27T17:11:52.663777Z",
     "shell.execute_reply": "2025-08-27T17:11:52.663054Z",
     "shell.execute_reply.started": "2025-08-27T17:11:52.649088Z"
    },
    "trusted": true
   },
   "outputs": [],
   "source": [
    "optimizer = torch.optim.Adam(model.parameters(), lr = 0.001)"
   ]
  },
  {
   "cell_type": "code",
   "execution_count": 58,
   "id": "4b21cdad",
   "metadata": {
    "execution": {
     "iopub.execute_input": "2025-08-27T17:11:52.666526Z",
     "iopub.status.busy": "2025-08-27T17:11:52.665798Z",
     "iopub.status.idle": "2025-08-27T17:11:52.680891Z",
     "shell.execute_reply": "2025-08-27T17:11:52.680050Z",
     "shell.execute_reply.started": "2025-08-27T17:11:52.666491Z"
    },
    "trusted": true
   },
   "outputs": [],
   "source": [
    "criterion = nn.CrossEntropyLoss()"
   ]
  },
  {
   "cell_type": "code",
   "execution_count": 59,
   "id": "9e24a72c-6985-435f-8216-dffb2af9ad2f",
   "metadata": {
    "execution": {
     "iopub.execute_input": "2025-08-27T17:11:52.682729Z",
     "iopub.status.busy": "2025-08-27T17:11:52.681944Z",
     "iopub.status.idle": "2025-08-27T17:11:52.698937Z",
     "shell.execute_reply": "2025-08-27T17:11:52.698046Z",
     "shell.execute_reply.started": "2025-08-27T17:11:52.682701Z"
    },
    "trusted": true
   },
   "outputs": [],
   "source": [
    "num_epochs = 20"
   ]
  },
  {
   "cell_type": "code",
   "execution_count": 72,
   "id": "cf58a4bf",
   "metadata": {},
   "outputs": [
    {
     "name": "stdout",
     "output_type": "stream",
     "text": [
      "16 94\n"
     ]
    }
   ],
   "source": [
    "# 1. Check label range\n",
    "for _, labels in train_dataloader:\n",
    "    print(labels.min().item(), labels.max().item())\n",
    "    break  # should be between 0 and 99\n"
   ]
  },
  {
   "cell_type": "code",
   "execution_count": 38,
   "id": "9a970ddd",
   "metadata": {},
   "outputs": [
    {
     "name": "stdout",
     "output_type": "stream",
     "text": [
      "Epoch 1, Loss 4.603808403015137\n",
      "Epoch 2, Loss 4.609356880187988\n",
      "Epoch 3, Loss 4.599602699279785\n",
      "Epoch 4, Loss 4.601132869720459\n",
      "Epoch 5, Loss 4.607789993286133\n",
      "Epoch 6, Loss 4.604128837585449\n",
      "Epoch 7, Loss 4.604803562164307\n",
      "Epoch 8, Loss 4.599720001220703\n",
      "Epoch 9, Loss 4.613910675048828\n",
      "Epoch 10, Loss 4.613034248352051\n",
      "Epoch 11, Loss 4.606087684631348\n",
      "Epoch 12, Loss 4.612348556518555\n",
      "Epoch 13, Loss 4.603206634521484\n",
      "Epoch 14, Loss 4.5968170166015625\n",
      "Epoch 15, Loss 4.604020118713379\n",
      "Epoch 16, Loss 4.604323387145996\n",
      "Epoch 17, Loss 4.616062641143799\n",
      "Epoch 18, Loss 4.601547718048096\n",
      "Epoch 19, Loss 4.605476379394531\n",
      "Epoch 20, Loss 4.617447376251221\n",
      "torch.Size([8, 100])\n"
     ]
    }
   ],
   "source": [
    "# 3. Try overfitting on tiny dataset\n",
    "small_loader = torch.utils.data.DataLoader(train_dataset, batch_size=32, shuffle=True)\n",
    "optimizer = torch.optim.Adam(model.parameters(), lr=1e-3)\n",
    "loss_fn = nn.CrossEntropyLoss()\n",
    "\n",
    "for epoch in range(20):\n",
    "    for xb, yb in small_loader:\n",
    "        xb, yb = xb.to(device), yb.to(device)\n",
    "        optimizer.zero_grad()\n",
    "        pred = model(xb)\n",
    "        loss = loss_fn(pred, yb)\n",
    "        loss.backward()\n",
    "        optimizer.step()\n",
    "    print(f\"Epoch {epoch+1}, Loss {loss.item()}\")\n",
    "# 2. Sanity check model output\n",
    "x, y = next(iter(train_dataloader))\n",
    "out = model(x.to(device))\n",
    "print(out.shape)  # should be [batch_size, 100]\n"
   ]
  },
  {
   "cell_type": "code",
   "execution_count": 34,
   "id": "3f36802a",
   "metadata": {
    "execution": {
     "iopub.execute_input": "2025-08-27T17:12:21.054941Z",
     "iopub.status.busy": "2025-08-27T17:12:21.054651Z",
     "iopub.status.idle": "2025-08-27T17:12:22.947322Z",
     "shell.execute_reply": "2025-08-27T17:12:22.946545Z",
     "shell.execute_reply.started": "2025-08-27T17:12:21.054915Z"
    },
    "trusted": true
   },
   "outputs": [
    {
     "name": "stdout",
     "output_type": "stream",
     "text": [
      "Got 10 / 1000 with accuracy 1.00\n",
      "Got 5 / 500 with accuracy 1.00\n"
     ]
    },
    {
     "data": {
      "text/plain": [
       "0.01"
      ]
     },
     "execution_count": 34,
     "metadata": {},
     "output_type": "execute_result"
    }
   ],
   "source": [
    "def check_accuracy(loader, model):\n",
    "    num_correct = 0\n",
    "    num_samples = 0\n",
    "\n",
    "    with torch.no_grad():\n",
    "        for x, y in loader:\n",
    "            x = x.to(device = device)\n",
    "            y = y.to(device = device)\n",
    "            scores = model(x)\n",
    "            _, predictions = scores.max(1)\n",
    "            num_correct += (predictions == y).sum()\n",
    "            num_samples += predictions.size(0)\n",
    "    acc = float(num_correct) / num_samples\n",
    "    print(f'Got {num_correct} / {num_samples} with accuracy {acc * 100:.2f}')\n",
    "    return acc\n",
    "\n",
    "check_accuracy(train_dataloader, model)\n",
    "check_accuracy(test_dataloader, model)"
   ]
  },
  {
   "cell_type": "markdown",
   "id": "d6986dd4",
   "metadata": {},
   "source": [
    "- Number of epochs as 10 - 1% accuracy\n",
    "- Number of epochs as 100 - 100% accuracy\n",
    "- Right now model is just memorizing, need to add more samples."
   ]
  }
 ],
 "metadata": {
  "kaggle": {
   "accelerator": "gpu",
   "dataSources": [
    {
     "datasetId": 8154468,
     "sourceId": 12888589,
     "sourceType": "datasetVersion"
    },
    {
     "datasetId": 8154492,
     "sourceId": 12888623,
     "sourceType": "datasetVersion"
    }
   ],
   "dockerImageVersionId": 31090,
   "isGpuEnabled": true,
   "isInternetEnabled": true,
   "language": "python",
   "sourceType": "notebook"
  },
  "kernelspec": {
   "display_name": ".venv",
   "language": "python",
   "name": "python3"
  },
  "language_info": {
   "codemirror_mode": {
    "name": "ipython",
    "version": 3
   },
   "file_extension": ".py",
   "mimetype": "text/x-python",
   "name": "python",
   "nbconvert_exporter": "python",
   "pygments_lexer": "ipython3",
   "version": "3.13.7"
  }
 },
 "nbformat": 4,
 "nbformat_minor": 5
}
