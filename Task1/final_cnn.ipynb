{
 "cells": [
  {
   "cell_type": "code",
   "execution_count": 6,
   "id": "9182e477",
   "metadata": {
    "execution": {
     "iopub.execute_input": "2025-08-27T17:11:52.421974Z",
     "iopub.status.busy": "2025-08-27T17:11:52.421656Z",
     "iopub.status.idle": "2025-08-27T17:11:52.426892Z",
     "shell.execute_reply": "2025-08-27T17:11:52.425965Z",
     "shell.execute_reply.started": "2025-08-27T17:11:52.421942Z"
    },
    "trusted": true
   },
   "outputs": [],
   "source": [
    "import torch\n",
    "import torch.nn as nn\n",
    "import torch.nn.functional as F     \n",
    "from torch.utils.data import DataLoader, Dataset, ConcatDataset\n",
    "from torchvision import transforms\n",
    "from PIL import Image\n",
    "import pandas as pd\n",
    "import os\n",
    "    "
   ]
  },
  {
   "cell_type": "code",
   "execution_count": 7,
   "id": "b960a1cd",
   "metadata": {
    "execution": {
     "iopub.execute_input": "2025-08-27T17:11:52.428546Z",
     "iopub.status.busy": "2025-08-27T17:11:52.428276Z",
     "iopub.status.idle": "2025-08-27T17:11:52.447447Z",
     "shell.execute_reply": "2025-08-27T17:11:52.446561Z",
     "shell.execute_reply.started": "2025-08-27T17:11:52.428528Z"
    },
    "trusted": true
   },
   "outputs": [],
   "source": [
    "class CNN(nn.Module):\n",
    "    def __init__(self, input_chnls, num_classes):\n",
    "        super(CNN, self).__init__()\n",
    "        self.conv1 = nn.Conv2d(input_chnls, out_channels=8, kernel_size=3, padding=1)   \n",
    "        self.conv2 = nn.Conv2d(8, out_channels=16, kernel_size=3, padding=1)            \n",
    "        self.conv3 = nn.Conv2d(16, out_channels=32, kernel_size=3, padding=1)           \n",
    "        self.pool = nn.MaxPool2d(2, 2)\n",
    "\n",
    "        # After 3 poolings: 200x80 -> 100x40 -> 50x20 -> 25x10\n",
    "        self.fc1 = nn.Linear(32 * 25 * 10, 128)\n",
    "        self.fc2 = nn.Linear(128, num_classes)\n",
    "        self.dropout = nn.Dropout(0.3)\n",
    "\n",
    "    def forward(self, x):\n",
    "        x = self.pool(F.relu(self.conv1(x)))\n",
    "        x = self.pool(F.relu(self.conv2(x)))\n",
    "        x = self.pool(F.relu(self.conv3(x)))\n",
    "        x = x.view(x.size(0), -1)\n",
    "        x = F.relu(self.fc1(x))\n",
    "        x = self.dropout(x)\n",
    "        x = self.fc2(x)\n",
    "        return x\n"
   ]
  },
  {
   "cell_type": "code",
   "execution_count": 8,
   "id": "bdb241dd",
   "metadata": {},
   "outputs": [],
   "source": [
    "# class CNN(nn.Module):\n",
    "#     def __init__(self, input_chnls, num_classes):\n",
    "#         super(CNN, self).__init__()\n",
    "#         self.conv1 = nn.Conv2d(input_chnls, 32, kernel_size=3, padding=1)\n",
    "#         self.bn1 = nn.BatchNorm2d(32)\n",
    "#         self.conv2 = nn.Conv2d(32, 64, kernel_size=3, padding=1)\n",
    "#         self.bn2 = nn.BatchNorm2d(64)\n",
    "#         self.conv3 = nn.Conv2d(64, 128, kernel_size=3, padding=1)\n",
    "#         self.bn3 = nn.BatchNorm2d(128)\n",
    "#         self.pool = nn.MaxPool2d(2, 2)\n",
    "        \n",
    "#         # Adaptive pooling instead of hardcoding dimensions\n",
    "#         self.gap = nn.AdaptiveAvgPool2d((4, 4))\n",
    "#         self.fc1 = nn.Linear(128*4*4, 256)\n",
    "#         self.fc2 = nn.Linear(256, num_classes)\n",
    "#         self.dropout = nn.Dropout(0.5)\n",
    "\n",
    "#     def forward(self, x):\n",
    "#         x = self.pool(F.relu(self.bn1(self.conv1(x))))\n",
    "#         x = self.pool(F.relu(self.bn2(self.conv2(x))))\n",
    "#         x = self.pool(F.relu(self.bn3(self.conv3(x))))\n",
    "#         x = self.gap(x)\n",
    "#         x = x.view(x.size(0), -1)\n",
    "#         x = F.relu(self.fc1(x))\n",
    "#         x = self.dropout(x)\n",
    "#         x = self.fc2(x)\n",
    "#         return x\n"
   ]
  },
  {
   "cell_type": "code",
   "execution_count": 9,
   "id": "897bcc53",
   "metadata": {
    "execution": {
     "iopub.execute_input": "2025-08-27T17:11:52.448417Z",
     "iopub.status.busy": "2025-08-27T17:11:52.448188Z",
     "iopub.status.idle": "2025-08-27T17:11:52.464762Z",
     "shell.execute_reply": "2025-08-27T17:11:52.464077Z",
     "shell.execute_reply.started": "2025-08-27T17:11:52.448391Z"
    },
    "trusted": true
   },
   "outputs": [],
   "source": [
    "device = torch.device('cuda' if torch.cuda.is_available() else 'cpu')"
   ]
  },
  {
   "cell_type": "code",
   "execution_count": 10,
   "id": "9dabb46a",
   "metadata": {
    "execution": {
     "iopub.execute_input": "2025-08-27T17:11:52.466637Z",
     "iopub.status.busy": "2025-08-27T17:11:52.466389Z",
     "iopub.status.idle": "2025-08-27T17:11:52.483985Z",
     "shell.execute_reply": "2025-08-27T17:11:52.483118Z",
     "shell.execute_reply.started": "2025-08-27T17:11:52.466619Z"
    },
    "trusted": true
   },
   "outputs": [
    {
     "data": {
      "text/plain": [
       "device(type='cuda')"
      ]
     },
     "execution_count": 10,
     "metadata": {},
     "output_type": "execute_result"
    }
   ],
   "source": [
    "device"
   ]
  },
  {
   "cell_type": "code",
   "execution_count": 11,
   "id": "ef0b9062",
   "metadata": {
    "execution": {
     "iopub.execute_input": "2025-08-27T17:11:52.485182Z",
     "iopub.status.busy": "2025-08-27T17:11:52.484869Z",
     "iopub.status.idle": "2025-08-27T17:11:52.557288Z",
     "shell.execute_reply": "2025-08-27T17:11:52.556595Z",
     "shell.execute_reply.started": "2025-08-27T17:11:52.485135Z"
    },
    "trusted": true
   },
   "outputs": [],
   "source": [
    "model = CNN(3, 100).to(device)"
   ]
  },
  {
   "cell_type": "code",
   "execution_count": 12,
   "id": "e041e670",
   "metadata": {
    "execution": {
     "iopub.execute_input": "2025-08-27T17:11:52.558298Z",
     "iopub.status.busy": "2025-08-27T17:11:52.558057Z",
     "iopub.status.idle": "2025-08-27T17:11:52.564077Z",
     "shell.execute_reply": "2025-08-27T17:11:52.563439Z",
     "shell.execute_reply.started": "2025-08-27T17:11:52.558279Z"
    },
    "trusted": true
   },
   "outputs": [],
   "source": [
    "class CustomImageDataset(Dataset):\n",
    "    def __init__(self, csv_file, img_dir, transforms = None, class_to_idx = None):\n",
    "        self.labels_df = pd.read_csv(csv_file)\n",
    "        self.img_dir = img_dir \n",
    "        self.transforms = transforms\n",
    "        self.class_to_idx = class_to_idx\n",
    "\n",
    "\n",
    "\n",
    "    def __len__(self):\n",
    "        return len(self.labels_df)\n",
    "    \n",
    "    def __getitem__(self, idx):\n",
    "        img_name = self.labels_df.iloc[idx, 0]\n",
    "        img_path = os.path.join(self.img_dir, img_name)\n",
    "\n",
    "        image = Image.open(img_path)\n",
    "        label = self.labels_df.iloc[idx, 1]\n",
    "        y_label = self.class_to_idx[label]\n",
    "\n",
    "        if self.transforms:\n",
    "            image = self.transforms(image)\n",
    "\n",
    "        return image, y_label"
   ]
  },
  {
   "cell_type": "code",
   "execution_count": 13,
   "id": "8ccbddec",
   "metadata": {
    "execution": {
     "iopub.execute_input": "2025-08-27T17:11:52.565092Z",
     "iopub.status.busy": "2025-08-27T17:11:52.564859Z",
     "iopub.status.idle": "2025-08-27T17:11:52.582417Z",
     "shell.execute_reply": "2025-08-27T17:11:52.581518Z",
     "shell.execute_reply.started": "2025-08-27T17:11:52.565074Z"
    },
    "trusted": true
   },
   "outputs": [],
   "source": [
    "transform = transforms.Compose([\n",
    "    transforms.Resize((200, 80)),\n",
    "    transforms.ToTensor(),\n",
    "    transforms.Normalize((0.5, 0.5, 0.5), (0.5, 0.5, 0.5))\n",
    "])\n"
   ]
  },
  {
   "cell_type": "code",
   "execution_count": 14,
   "id": "341ac5cd",
   "metadata": {
    "execution": {
     "iopub.execute_input": "2025-08-27T17:11:52.605878Z",
     "iopub.status.busy": "2025-08-27T17:11:52.605589Z",
     "iopub.status.idle": "2025-08-27T17:11:52.612907Z",
     "shell.execute_reply": "2025-08-27T17:11:52.612333Z",
     "shell.execute_reply.started": "2025-08-27T17:11:52.605857Z"
    },
    "trusted": true
   },
   "outputs": [],
   "source": [
    "# with open('ai_wordlist.txt', 'r') as f:\n",
    "#     words = [line.strip() for line in f.readlines()]\n",
    "\n",
    "# class_to_idx = {word: idx for idx, word in enumerate(words)}\n",
    "\n",
    "# len(class_to_idx)\n",
    "\n"
   ]
  },
  {
   "cell_type": "code",
   "execution_count": 15,
   "id": "27e0fd6c",
   "metadata": {},
   "outputs": [
    {
     "name": "stdout",
     "output_type": "stream",
     "text": [
      "Classes found: 100\n",
      "[('adapt', 0), ('agents', 1), ('aiword1', 2), ('aiword10', 3), ('aiword11', 4), ('aiword12', 5), ('aiword13', 6), ('aiword2', 7), ('aiword3', 8), ('aiword4', 9)]\n"
     ]
    }
   ],
   "source": [
    "import pandas as pd\n",
    "\n",
    "all_labels = []\n",
    "for file in [\n",
    "    \"captcha_images/train/labels_easy.csv\",\n",
    "    \"captcha_images/train/labels_hard.csv\",\n",
    "    \"captcha_images/test/labels_easy.csv\",\n",
    "    \"captcha_images/test/labels_hard.csv\"\n",
    "]:\n",
    "    df = pd.read_csv(file)\n",
    "    all_labels.extend(df.iloc[:, 1].tolist()) \n",
    "\n",
    "unique_labels = sorted(set(all_labels))\n",
    "class_to_idx = {label: idx for idx, label in enumerate(unique_labels)}\n",
    "\n",
    "print(\"Classes found:\", len(class_to_idx))\n",
    "print(list(class_to_idx.items())[:10])  \n",
    "\n"
   ]
  },
  {
   "cell_type": "code",
   "execution_count": 16,
   "id": "51187ff3",
   "metadata": {
    "execution": {
     "iopub.execute_input": "2025-08-27T17:11:52.614711Z",
     "iopub.status.busy": "2025-08-27T17:11:52.614473Z",
     "iopub.status.idle": "2025-08-27T17:11:52.641654Z",
     "shell.execute_reply": "2025-08-27T17:11:52.641022Z",
     "shell.execute_reply.started": "2025-08-27T17:11:52.614693Z"
    },
    "trusted": true
   },
   "outputs": [],
   "source": [
    "train_dataset_easy = CustomImageDataset(\n",
    "    csv_file = 'captcha_images/train/labels_easy.csv',\n",
    "    img_dir = 'captcha_images/train/easy',\n",
    "    transforms = transform,\n",
    "    class_to_idx = class_to_idx\n",
    ")\n",
    "\n",
    "train_dataset_hard = CustomImageDataset(\n",
    "    csv_file = 'captcha_images/train/labels_hard.csv',\n",
    "    img_dir = 'captcha_images/train/hard',\n",
    "    transforms = transform,\n",
    "    class_to_idx = class_to_idx\n",
    ")\n",
    "\n",
    "train_dataset = ConcatDataset([train_dataset_easy, train_dataset_hard])\n",
    "\n",
    "\n",
    "test_dataset_easy = CustomImageDataset(\n",
    "    csv_file = 'captcha_images/test/labels_easy.csv',\n",
    "    img_dir = 'captcha_images/test/easy',\n",
    "    transforms = transform,\n",
    "    class_to_idx = class_to_idx\n",
    ")\n",
    "\n",
    "test_dataset_hard = CustomImageDataset(\n",
    "    csv_file = 'captcha_images/test/labels_hard.csv',\n",
    "    img_dir = 'captcha_images/test/hard',\n",
    "    transforms = transform,\n",
    "    class_to_idx = class_to_idx\n",
    ")\n",
    "\n",
    "test_dataset = ConcatDataset([test_dataset_easy, test_dataset_hard])\n"
   ]
  },
  {
   "cell_type": "code",
   "execution_count": 17,
   "id": "1b2975c5",
   "metadata": {
    "execution": {
     "iopub.execute_input": "2025-08-27T17:11:52.642695Z",
     "iopub.status.busy": "2025-08-27T17:11:52.642422Z",
     "iopub.status.idle": "2025-08-27T17:11:52.647808Z",
     "shell.execute_reply": "2025-08-27T17:11:52.646905Z",
     "shell.execute_reply.started": "2025-08-27T17:11:52.642666Z"
    },
    "trusted": true
   },
   "outputs": [],
   "source": [
    "\n",
    "train_dataloader = DataLoader(train_dataset, batch_size = 32, shuffle = True)\n",
    "test_dataloader = DataLoader(test_dataset, batch_size = 32, shuffle = False)"
   ]
  },
  {
   "cell_type": "code",
   "execution_count": 18,
   "id": "fe9881ee",
   "metadata": {
    "execution": {
     "iopub.execute_input": "2025-08-27T17:11:52.649115Z",
     "iopub.status.busy": "2025-08-27T17:11:52.648825Z",
     "iopub.status.idle": "2025-08-27T17:11:52.663777Z",
     "shell.execute_reply": "2025-08-27T17:11:52.663054Z",
     "shell.execute_reply.started": "2025-08-27T17:11:52.649088Z"
    },
    "trusted": true
   },
   "outputs": [],
   "source": [
    "optimizer = torch.optim.Adam(model.parameters(), lr = 0.001)"
   ]
  },
  {
   "cell_type": "code",
   "execution_count": 19,
   "id": "4b21cdad",
   "metadata": {
    "execution": {
     "iopub.execute_input": "2025-08-27T17:11:52.666526Z",
     "iopub.status.busy": "2025-08-27T17:11:52.665798Z",
     "iopub.status.idle": "2025-08-27T17:11:52.680891Z",
     "shell.execute_reply": "2025-08-27T17:11:52.680050Z",
     "shell.execute_reply.started": "2025-08-27T17:11:52.666491Z"
    },
    "trusted": true
   },
   "outputs": [],
   "source": [
    "criterion = nn.CrossEntropyLoss()"
   ]
  },
  {
   "cell_type": "code",
   "execution_count": 20,
   "id": "9e24a72c-6985-435f-8216-dffb2af9ad2f",
   "metadata": {
    "execution": {
     "iopub.execute_input": "2025-08-27T17:11:52.682729Z",
     "iopub.status.busy": "2025-08-27T17:11:52.681944Z",
     "iopub.status.idle": "2025-08-27T17:11:52.698937Z",
     "shell.execute_reply": "2025-08-27T17:11:52.698046Z",
     "shell.execute_reply.started": "2025-08-27T17:11:52.682701Z"
    },
    "trusted": true
   },
   "outputs": [],
   "source": [
    "num_epochs = 100"
   ]
  },
  {
   "cell_type": "code",
   "execution_count": 21,
   "id": "9a970ddd",
   "metadata": {},
   "outputs": [
    {
     "name": "stdout",
     "output_type": "stream",
     "text": [
      "Epoch [1/100], Loss: 3.8429\n",
      "Epoch [2/100], Loss: 1.6462\n",
      "Epoch [3/100], Loss: 0.9061\n",
      "Epoch [4/100], Loss: 0.6353\n",
      "Epoch [5/100], Loss: 0.4705\n",
      "Epoch [6/100], Loss: 0.4074\n",
      "Epoch [7/100], Loss: 0.3562\n",
      "Epoch [8/100], Loss: 0.3102\n",
      "Epoch [9/100], Loss: 0.2951\n",
      "Epoch [10/100], Loss: 0.2629\n",
      "Epoch [11/100], Loss: 0.2331\n",
      "Epoch [12/100], Loss: 0.2120\n",
      "Epoch [13/100], Loss: 0.2061\n",
      "Epoch [14/100], Loss: 0.1879\n",
      "Epoch [15/100], Loss: 0.1761\n",
      "Epoch [16/100], Loss: 0.1771\n",
      "Epoch [17/100], Loss: 0.1590\n",
      "Epoch [18/100], Loss: 0.1522\n",
      "Epoch [19/100], Loss: 0.1468\n",
      "Epoch [20/100], Loss: 0.1455\n",
      "Epoch [21/100], Loss: 0.1348\n",
      "Epoch [22/100], Loss: 0.1257\n",
      "Epoch [23/100], Loss: 0.1265\n",
      "Epoch [24/100], Loss: 0.1206\n",
      "Epoch [25/100], Loss: 0.1166\n",
      "Epoch [26/100], Loss: 0.1181\n",
      "Epoch [27/100], Loss: 0.1123\n",
      "Epoch [28/100], Loss: 0.1098\n",
      "Epoch [29/100], Loss: 0.1008\n",
      "Epoch [30/100], Loss: 0.0938\n",
      "Epoch [31/100], Loss: 0.1122\n",
      "Epoch [32/100], Loss: 0.0859\n",
      "Epoch [33/100], Loss: 0.0954\n",
      "Epoch [34/100], Loss: 0.1014\n",
      "Epoch [35/100], Loss: 0.0783\n",
      "Epoch [36/100], Loss: 0.0815\n",
      "Epoch [37/100], Loss: 0.0859\n",
      "Epoch [38/100], Loss: 0.0858\n",
      "Epoch [39/100], Loss: 0.0822\n",
      "Epoch [40/100], Loss: 0.0804\n",
      "Epoch [41/100], Loss: 0.0770\n",
      "Epoch [42/100], Loss: 0.0768\n",
      "Epoch [43/100], Loss: 0.0640\n",
      "Epoch [44/100], Loss: 0.0686\n",
      "Epoch [45/100], Loss: 0.0703\n",
      "Epoch [46/100], Loss: 0.0644\n",
      "Epoch [47/100], Loss: 0.0701\n",
      "Epoch [48/100], Loss: 0.0667\n",
      "Epoch [49/100], Loss: 0.0644\n",
      "Epoch [50/100], Loss: 0.0647\n",
      "Epoch [51/100], Loss: 0.0651\n",
      "Epoch [52/100], Loss: 0.0700\n",
      "Epoch [53/100], Loss: 0.0627\n",
      "Epoch [54/100], Loss: 0.0528\n",
      "Epoch [55/100], Loss: 0.0563\n",
      "Epoch [56/100], Loss: 0.0579\n",
      "Epoch [57/100], Loss: 0.0567\n",
      "Epoch [58/100], Loss: 0.0527\n",
      "Epoch [59/100], Loss: 0.0574\n",
      "Epoch [60/100], Loss: 0.0487\n",
      "Epoch [61/100], Loss: 0.0475\n",
      "Epoch [62/100], Loss: 0.0555\n",
      "Epoch [63/100], Loss: 0.0483\n",
      "Epoch [64/100], Loss: 0.0524\n",
      "Epoch [65/100], Loss: 0.0452\n",
      "Epoch [66/100], Loss: 0.0410\n",
      "Epoch [67/100], Loss: 0.0410\n",
      "Epoch [68/100], Loss: 0.0478\n",
      "Epoch [69/100], Loss: 0.0409\n",
      "Epoch [70/100], Loss: 0.0442\n",
      "Epoch [71/100], Loss: 0.0495\n",
      "Epoch [72/100], Loss: 0.0417\n",
      "Epoch [73/100], Loss: 0.0368\n",
      "Epoch [74/100], Loss: 0.0505\n",
      "Epoch [75/100], Loss: 0.0421\n",
      "Epoch [76/100], Loss: 0.0320\n",
      "Epoch [77/100], Loss: 0.0426\n",
      "Epoch [78/100], Loss: 0.0380\n",
      "Epoch [79/100], Loss: 0.0402\n",
      "Epoch [80/100], Loss: 0.0391\n",
      "Epoch [81/100], Loss: 0.0403\n",
      "Epoch [82/100], Loss: 0.0367\n",
      "Epoch [83/100], Loss: 0.0421\n",
      "Epoch [84/100], Loss: 0.0379\n",
      "Epoch [85/100], Loss: 0.0320\n",
      "Epoch [86/100], Loss: 0.0371\n",
      "Epoch [87/100], Loss: 0.0361\n",
      "Epoch [88/100], Loss: 0.0363\n",
      "Epoch [89/100], Loss: 0.0363\n",
      "Epoch [90/100], Loss: 0.0372\n",
      "Epoch [91/100], Loss: 0.0396\n",
      "Epoch [92/100], Loss: 0.0346\n",
      "Epoch [93/100], Loss: 0.0332\n",
      "Epoch [94/100], Loss: 0.0357\n",
      "Epoch [95/100], Loss: 0.0338\n",
      "Epoch [96/100], Loss: 0.0256\n",
      "Epoch [97/100], Loss: 0.0358\n",
      "Epoch [98/100], Loss: 0.0289\n",
      "Epoch [99/100], Loss: 0.0221\n",
      "Epoch [100/100], Loss: 0.0279\n"
     ]
    }
   ],
   "source": [
    "for epoch in range(num_epochs):\n",
    "    epoch_loss = 0.0\n",
    "    for batch_idx, (data, targets) in enumerate(train_dataloader):\n",
    "        data = data.to(device = device)\n",
    "        targets = targets.to(device = device)\n",
    "\n",
    "        # Forward pass\n",
    "        scores = model(data)\n",
    "        loss = criterion(scores, targets)\n",
    "\n",
    "        optimizer.zero_grad()\n",
    "        loss.backward()\n",
    "        optimizer.step()\n",
    "        \n",
    "        epoch_loss += loss.item()\n",
    "    \n",
    "    print(f'Epoch [{epoch+1}/{num_epochs}], Loss: {epoch_loss/len(train_dataloader):.4f}')\n"
   ]
  },
  {
   "cell_type": "code",
   "execution_count": 23,
   "id": "f171de37",
   "metadata": {},
   "outputs": [
    {
     "name": "stdout",
     "output_type": "stream",
     "text": [
      "Model saved as CNN_model.pth\n"
     ]
    }
   ],
   "source": [
    "torch.save(model.state_dict(), 'smolCRNN_model.pth')\n",
    "print(\"Model saved as CNN_model.pth\")"
   ]
  },
  {
   "cell_type": "code",
   "execution_count": 22,
   "id": "3f36802a",
   "metadata": {
    "execution": {
     "iopub.execute_input": "2025-08-27T17:12:21.054941Z",
     "iopub.status.busy": "2025-08-27T17:12:21.054651Z",
     "iopub.status.idle": "2025-08-27T17:12:22.947322Z",
     "shell.execute_reply": "2025-08-27T17:12:22.946545Z",
     "shell.execute_reply.started": "2025-08-27T17:12:21.054915Z"
    },
    "trusted": true
   },
   "outputs": [
    {
     "name": "stdout",
     "output_type": "stream",
     "text": [
      "Got 9903 / 10000 with accuracy 99.03\n",
      "Got 2838 / 3000 with accuracy 94.60\n"
     ]
    },
    {
     "data": {
      "text/plain": [
       "0.946"
      ]
     },
     "execution_count": 22,
     "metadata": {},
     "output_type": "execute_result"
    }
   ],
   "source": [
    "def check_accuracy(loader, model):\n",
    "    num_correct = 0\n",
    "    num_samples = 0\n",
    "\n",
    "    with torch.no_grad():\n",
    "        for x, y in loader:\n",
    "            x = x.to(device = device)\n",
    "            y = y.to(device = device)\n",
    "            scores = model(x)\n",
    "            _, predictions = scores.max(1)\n",
    "            num_correct += (predictions == y).sum()\n",
    "            num_samples += predictions.size(0)\n",
    "    acc = float(num_correct) / num_samples\n",
    "    print(f'Got {num_correct} / {num_samples} with accuracy {acc * 100:.2f}')\n",
    "    return acc\n",
    "\n",
    "check_accuracy(train_dataloader, model)\n",
    "check_accuracy(test_dataloader, model)"
   ]
  },
  {
   "cell_type": "markdown",
   "id": "d6986dd4",
   "metadata": {},
   "source": [
    "- Number of epochs as 10 - 1% accuracy\n",
    "- Number of epochs as 100 - 100% accuracy\n",
    "- Right now model is just memorizing, need to add more samples."
   ]
  },
  {
   "cell_type": "markdown",
   "id": "943d9969",
   "metadata": {},
   "source": [
    "- then i reduced from 6m to 500k parameters and model works fine now."
   ]
  }
 ],
 "metadata": {
  "kaggle": {
   "accelerator": "gpu",
   "dataSources": [
    {
     "datasetId": 8154468,
     "sourceId": 12888589,
     "sourceType": "datasetVersion"
    },
    {
     "datasetId": 8154492,
     "sourceId": 12888623,
     "sourceType": "datasetVersion"
    }
   ],
   "dockerImageVersionId": 31090,
   "isGpuEnabled": true,
   "isInternetEnabled": true,
   "language": "python",
   "sourceType": "notebook"
  },
  "kernelspec": {
   "display_name": ".venv",
   "language": "python",
   "name": "python3"
  },
  "language_info": {
   "codemirror_mode": {
    "name": "ipython",
    "version": 3
   },
   "file_extension": ".py",
   "mimetype": "text/x-python",
   "name": "python",
   "nbconvert_exporter": "python",
   "pygments_lexer": "ipython3",
   "version": "3.13.7"
  }
 },
 "nbformat": 4,
 "nbformat_minor": 5
}
