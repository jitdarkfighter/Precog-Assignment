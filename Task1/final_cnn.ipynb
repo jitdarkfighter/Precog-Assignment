{
 "cells": [
  {
   "cell_type": "code",
   "execution_count": 1,
   "id": "9182e477",
   "metadata": {
    "execution": {
     "iopub.execute_input": "2025-08-27T17:11:52.421974Z",
     "iopub.status.busy": "2025-08-27T17:11:52.421656Z",
     "iopub.status.idle": "2025-08-27T17:11:52.426892Z",
     "shell.execute_reply": "2025-08-27T17:11:52.425965Z",
     "shell.execute_reply.started": "2025-08-27T17:11:52.421942Z"
    },
    "trusted": true
   },
   "outputs": [],
   "source": [
    "import torch\n",
    "import torch.nn as nn\n",
    "import torch.nn.functional as F     \n",
    "from torch.utils.data import DataLoader, Dataset, ConcatDataset\n",
    "from torchvision import transforms\n",
    "from PIL import Image\n",
    "import pandas as pd\n",
    "import os\n",
    "    "
   ]
  },
  {
   "cell_type": "code",
   "execution_count": 2,
   "id": "b960a1cd",
   "metadata": {
    "execution": {
     "iopub.execute_input": "2025-08-27T17:11:52.428546Z",
     "iopub.status.busy": "2025-08-27T17:11:52.428276Z",
     "iopub.status.idle": "2025-08-27T17:11:52.447447Z",
     "shell.execute_reply": "2025-08-27T17:11:52.446561Z",
     "shell.execute_reply.started": "2025-08-27T17:11:52.428528Z"
    },
    "trusted": true
   },
   "outputs": [],
   "source": [
    "class CNN(nn.Module):\n",
    "    def __init__(self, input_chnls, num_classes):\n",
    "        super(CNN, self).__init__()\n",
    "        self.conv1 = nn.Conv2d(input_chnls, 8, kernel_size=3, padding=1)   # 8 filters\n",
    "        self.conv2 = nn.Conv2d(8, 16, kernel_size=3, padding=1)            # 16 filters\n",
    "        self.conv3 = nn.Conv2d(16, 32, kernel_size=3, padding=1)           # 32 filters\n",
    "        self.pool = nn.MaxPool2d(2, 2)\n",
    "\n",
    "        # After 3 poolings: 200x80 -> 100x40 -> 50x20 -> 25x10\n",
    "        self.fc1 = nn.Linear(32 * 25 * 10, 128)\n",
    "        self.fc2 = nn.Linear(128, num_classes)\n",
    "        self.dropout = nn.Dropout(0.3)\n",
    "\n",
    "    def forward(self, x):\n",
    "        x = self.pool(F.relu(self.conv1(x)))\n",
    "        x = self.pool(F.relu(self.conv2(x)))\n",
    "        x = self.pool(F.relu(self.conv3(x)))\n",
    "        x = x.view(x.size(0), -1)\n",
    "        x = F.relu(self.fc1(x))\n",
    "        x = self.dropout(x)\n",
    "        x = self.fc2(x)\n",
    "        return x\n"
   ]
  },
  {
   "cell_type": "code",
   "execution_count": 3,
   "id": "bdb241dd",
   "metadata": {},
   "outputs": [],
   "source": [
    "# class CNN(nn.Module):\n",
    "#     def __init__(self, input_chnls, num_classes):\n",
    "#         super(CNN, self).__init__()\n",
    "#         self.conv1 = nn.Conv2d(input_chnls, 32, kernel_size=3, padding=1)\n",
    "#         self.bn1 = nn.BatchNorm2d(32)\n",
    "#         self.conv2 = nn.Conv2d(32, 64, kernel_size=3, padding=1)\n",
    "#         self.bn2 = nn.BatchNorm2d(64)\n",
    "#         self.conv3 = nn.Conv2d(64, 128, kernel_size=3, padding=1)\n",
    "#         self.bn3 = nn.BatchNorm2d(128)\n",
    "#         self.pool = nn.MaxPool2d(2, 2)\n",
    "        \n",
    "#         # Adaptive pooling instead of hardcoding dimensions\n",
    "#         self.gap = nn.AdaptiveAvgPool2d((4, 4))\n",
    "#         self.fc1 = nn.Linear(128*4*4, 256)\n",
    "#         self.fc2 = nn.Linear(256, num_classes)\n",
    "#         self.dropout = nn.Dropout(0.5)\n",
    "\n",
    "#     def forward(self, x):\n",
    "#         x = self.pool(F.relu(self.bn1(self.conv1(x))))\n",
    "#         x = self.pool(F.relu(self.bn2(self.conv2(x))))\n",
    "#         x = self.pool(F.relu(self.bn3(self.conv3(x))))\n",
    "#         x = self.gap(x)\n",
    "#         x = x.view(x.size(0), -1)\n",
    "#         x = F.relu(self.fc1(x))\n",
    "#         x = self.dropout(x)\n",
    "#         x = self.fc2(x)\n",
    "#         return x\n"
   ]
  },
  {
   "cell_type": "code",
   "execution_count": 4,
   "id": "897bcc53",
   "metadata": {
    "execution": {
     "iopub.execute_input": "2025-08-27T17:11:52.448417Z",
     "iopub.status.busy": "2025-08-27T17:11:52.448188Z",
     "iopub.status.idle": "2025-08-27T17:11:52.464762Z",
     "shell.execute_reply": "2025-08-27T17:11:52.464077Z",
     "shell.execute_reply.started": "2025-08-27T17:11:52.448391Z"
    },
    "trusted": true
   },
   "outputs": [],
   "source": [
    "device = torch.device('cuda' if torch.cuda.is_available() else 'cpu')"
   ]
  },
  {
   "cell_type": "code",
   "execution_count": 5,
   "id": "9dabb46a",
   "metadata": {
    "execution": {
     "iopub.execute_input": "2025-08-27T17:11:52.466637Z",
     "iopub.status.busy": "2025-08-27T17:11:52.466389Z",
     "iopub.status.idle": "2025-08-27T17:11:52.483985Z",
     "shell.execute_reply": "2025-08-27T17:11:52.483118Z",
     "shell.execute_reply.started": "2025-08-27T17:11:52.466619Z"
    },
    "trusted": true
   },
   "outputs": [
    {
     "data": {
      "text/plain": [
       "device(type='cuda')"
      ]
     },
     "execution_count": 5,
     "metadata": {},
     "output_type": "execute_result"
    }
   ],
   "source": [
    "device"
   ]
  },
  {
   "cell_type": "code",
   "execution_count": 6,
   "id": "ef0b9062",
   "metadata": {
    "execution": {
     "iopub.execute_input": "2025-08-27T17:11:52.485182Z",
     "iopub.status.busy": "2025-08-27T17:11:52.484869Z",
     "iopub.status.idle": "2025-08-27T17:11:52.557288Z",
     "shell.execute_reply": "2025-08-27T17:11:52.556595Z",
     "shell.execute_reply.started": "2025-08-27T17:11:52.485135Z"
    },
    "trusted": true
   },
   "outputs": [],
   "source": [
    "model = CNN(3, 100).to(device)"
   ]
  },
  {
   "cell_type": "code",
   "execution_count": 7,
   "id": "e041e670",
   "metadata": {
    "execution": {
     "iopub.execute_input": "2025-08-27T17:11:52.558298Z",
     "iopub.status.busy": "2025-08-27T17:11:52.558057Z",
     "iopub.status.idle": "2025-08-27T17:11:52.564077Z",
     "shell.execute_reply": "2025-08-27T17:11:52.563439Z",
     "shell.execute_reply.started": "2025-08-27T17:11:52.558279Z"
    },
    "trusted": true
   },
   "outputs": [],
   "source": [
    "class CustomImageDataset(Dataset):\n",
    "    def __init__(self, csv_file, img_dir, transforms = None, class_to_idx = None):\n",
    "        self.labels_df = pd.read_csv(csv_file)\n",
    "        self.img_dir = img_dir \n",
    "        self.transforms = transforms\n",
    "        self.class_to_idx = class_to_idx\n",
    "\n",
    "\n",
    "\n",
    "    def __len__(self):\n",
    "        return len(self.labels_df)\n",
    "    \n",
    "    def __getitem__(self, idx):\n",
    "        img_name = self.labels_df.iloc[idx, 0]\n",
    "        img_path = os.path.join(self.img_dir, img_name)\n",
    "\n",
    "        image = Image.open(img_path)\n",
    "        label = self.labels_df.iloc[idx, 1]\n",
    "        y_label = self.class_to_idx[label]\n",
    "\n",
    "        if self.transforms:\n",
    "            image = self.transforms(image)\n",
    "\n",
    "        return image, y_label"
   ]
  },
  {
   "cell_type": "code",
   "execution_count": 8,
   "id": "8ccbddec",
   "metadata": {
    "execution": {
     "iopub.execute_input": "2025-08-27T17:11:52.565092Z",
     "iopub.status.busy": "2025-08-27T17:11:52.564859Z",
     "iopub.status.idle": "2025-08-27T17:11:52.582417Z",
     "shell.execute_reply": "2025-08-27T17:11:52.581518Z",
     "shell.execute_reply.started": "2025-08-27T17:11:52.565074Z"
    },
    "trusted": true
   },
   "outputs": [],
   "source": [
    "transform = transforms.Compose([\n",
    "    transforms.Resize((200, 80)),\n",
    "    transforms.ToTensor(),\n",
    "    transforms.Normalize((0.5, 0.5, 0.5), (0.5, 0.5, 0.5))\n",
    "])\n"
   ]
  },
  {
   "cell_type": "code",
   "execution_count": 9,
   "id": "341ac5cd",
   "metadata": {
    "execution": {
     "iopub.execute_input": "2025-08-27T17:11:52.605878Z",
     "iopub.status.busy": "2025-08-27T17:11:52.605589Z",
     "iopub.status.idle": "2025-08-27T17:11:52.612907Z",
     "shell.execute_reply": "2025-08-27T17:11:52.612333Z",
     "shell.execute_reply.started": "2025-08-27T17:11:52.605857Z"
    },
    "trusted": true
   },
   "outputs": [],
   "source": [
    "# with open('ai_wordlist.txt', 'r') as f:\n",
    "#     words = [line.strip() for line in f.readlines()]\n",
    "\n",
    "# class_to_idx = {word: idx for idx, word in enumerate(words)}\n",
    "\n",
    "# len(class_to_idx)\n",
    "\n"
   ]
  },
  {
   "cell_type": "code",
   "execution_count": 10,
   "id": "27e0fd6c",
   "metadata": {},
   "outputs": [
    {
     "name": "stdout",
     "output_type": "stream",
     "text": [
      "Classes found: 100\n",
      "[('adapt', 0), ('agents', 1), ('aiword1', 2), ('aiword10', 3), ('aiword11', 4), ('aiword12', 5), ('aiword13', 6), ('aiword2', 7), ('aiword3', 8), ('aiword4', 9)]\n"
     ]
    }
   ],
   "source": [
    "import pandas as pd\n",
    "\n",
    "# Collect labels from all csv files\n",
    "all_labels = []\n",
    "for file in [\n",
    "    \"captcha_images/train/labels_easy.csv\",\n",
    "    # \"captcha_images/train/labels_hard.csv\",\n",
    "    \"captcha_images/test/labels_easy.csv\",\n",
    "    # \"captcha_images/test/labels_hard.csv\"\n",
    "]:\n",
    "    df = pd.read_csv(file)\n",
    "    all_labels.extend(df.iloc[:, 1].tolist())  # assuming 2nd column = label\n",
    "\n",
    "unique_labels = sorted(set(all_labels))\n",
    "class_to_idx = {label: idx for idx, label in enumerate(unique_labels)}\n",
    "\n",
    "print(\"Classes found:\", len(class_to_idx))\n",
    "print(list(class_to_idx.items())[:10])  # sanity check\n",
    "\n"
   ]
  },
  {
   "cell_type": "code",
   "execution_count": 11,
   "id": "51187ff3",
   "metadata": {
    "execution": {
     "iopub.execute_input": "2025-08-27T17:11:52.614711Z",
     "iopub.status.busy": "2025-08-27T17:11:52.614473Z",
     "iopub.status.idle": "2025-08-27T17:11:52.641654Z",
     "shell.execute_reply": "2025-08-27T17:11:52.641022Z",
     "shell.execute_reply.started": "2025-08-27T17:11:52.614693Z"
    },
    "trusted": true
   },
   "outputs": [],
   "source": [
    "train_dataset_easy = CustomImageDataset(\n",
    "    csv_file = 'captcha_images/train/labels_easy.csv',\n",
    "    img_dir = 'captcha_images/train/easy',\n",
    "    transforms = transform,\n",
    "    class_to_idx = class_to_idx\n",
    ")\n",
    "\n",
    "train_dataset_hard = CustomImageDataset(\n",
    "    csv_file = 'captcha_images/train/labels_hard.csv',\n",
    "    img_dir = 'captcha_images/train/hard',\n",
    "    transforms = transform,\n",
    "    class_to_idx = class_to_idx\n",
    ")\n",
    "\n",
    "train_dataset = ConcatDataset([train_dataset_easy, train_dataset_hard])\n",
    "\n",
    "\n",
    "test_dataset_easy = CustomImageDataset(\n",
    "    csv_file = 'captcha_images/test/labels_easy.csv',\n",
    "    img_dir = 'captcha_images/test/easy',\n",
    "    transforms = transform,\n",
    "    class_to_idx = class_to_idx\n",
    ")\n",
    "\n",
    "test_dataset_hard = CustomImageDataset(\n",
    "    csv_file = 'captcha_images/test/labels_hard.csv',\n",
    "    img_dir = 'captcha_images/test/hard',\n",
    "    transforms = transform,\n",
    "    class_to_idx = class_to_idx\n",
    ")\n",
    "\n",
    "test_dataset = ConcatDataset([test_dataset_easy, test_dataset_hard])\n"
   ]
  },
  {
   "cell_type": "code",
   "execution_count": 12,
   "id": "1b2975c5",
   "metadata": {
    "execution": {
     "iopub.execute_input": "2025-08-27T17:11:52.642695Z",
     "iopub.status.busy": "2025-08-27T17:11:52.642422Z",
     "iopub.status.idle": "2025-08-27T17:11:52.647808Z",
     "shell.execute_reply": "2025-08-27T17:11:52.646905Z",
     "shell.execute_reply.started": "2025-08-27T17:11:52.642666Z"
    },
    "trusted": true
   },
   "outputs": [],
   "source": [
    "\n",
    "train_dataloader = DataLoader(train_dataset, batch_size = 32, shuffle = True)\n",
    "test_dataloader = DataLoader(test_dataset, batch_size = 32, shuffle = False)"
   ]
  },
  {
   "cell_type": "code",
   "execution_count": 13,
   "id": "fe9881ee",
   "metadata": {
    "execution": {
     "iopub.execute_input": "2025-08-27T17:11:52.649115Z",
     "iopub.status.busy": "2025-08-27T17:11:52.648825Z",
     "iopub.status.idle": "2025-08-27T17:11:52.663777Z",
     "shell.execute_reply": "2025-08-27T17:11:52.663054Z",
     "shell.execute_reply.started": "2025-08-27T17:11:52.649088Z"
    },
    "trusted": true
   },
   "outputs": [],
   "source": [
    "optimizer = torch.optim.Adam(model.parameters(), lr = 0.001)"
   ]
  },
  {
   "cell_type": "code",
   "execution_count": 14,
   "id": "4b21cdad",
   "metadata": {
    "execution": {
     "iopub.execute_input": "2025-08-27T17:11:52.666526Z",
     "iopub.status.busy": "2025-08-27T17:11:52.665798Z",
     "iopub.status.idle": "2025-08-27T17:11:52.680891Z",
     "shell.execute_reply": "2025-08-27T17:11:52.680050Z",
     "shell.execute_reply.started": "2025-08-27T17:11:52.666491Z"
    },
    "trusted": true
   },
   "outputs": [],
   "source": [
    "criterion = nn.CrossEntropyLoss()"
   ]
  },
  {
   "cell_type": "code",
   "execution_count": 23,
   "id": "9e24a72c-6985-435f-8216-dffb2af9ad2f",
   "metadata": {
    "execution": {
     "iopub.execute_input": "2025-08-27T17:11:52.682729Z",
     "iopub.status.busy": "2025-08-27T17:11:52.681944Z",
     "iopub.status.idle": "2025-08-27T17:11:52.698937Z",
     "shell.execute_reply": "2025-08-27T17:11:52.698046Z",
     "shell.execute_reply.started": "2025-08-27T17:11:52.682701Z"
    },
    "trusted": true
   },
   "outputs": [],
   "source": [
    "num_epochs = 60"
   ]
  },
  {
   "cell_type": "code",
   "execution_count": 24,
   "id": "9a970ddd",
   "metadata": {},
   "outputs": [
    {
     "name": "stdout",
     "output_type": "stream",
     "text": [
      "Epoch [1/60], Loss: 0.0470\n",
      "Epoch [2/60], Loss: 0.0538\n",
      "Epoch [3/60], Loss: 0.0440\n",
      "Epoch [4/60], Loss: 0.0495\n",
      "Epoch [5/60], Loss: 0.0484\n",
      "Epoch [6/60], Loss: 0.0332\n",
      "Epoch [7/60], Loss: 0.0373\n",
      "Epoch [8/60], Loss: 0.0382\n",
      "Epoch [9/60], Loss: 0.0375\n",
      "Epoch [10/60], Loss: 0.0436\n",
      "Epoch [11/60], Loss: 0.0334\n",
      "Epoch [12/60], Loss: 0.0469\n",
      "Epoch [13/60], Loss: 0.0355\n",
      "Epoch [14/60], Loss: 0.0361\n",
      "Epoch [15/60], Loss: 0.0400\n",
      "Epoch [16/60], Loss: 0.0373\n",
      "Epoch [17/60], Loss: 0.0331\n",
      "Epoch [18/60], Loss: 0.0257\n",
      "Epoch [19/60], Loss: 0.0361\n",
      "Epoch [20/60], Loss: 0.0312\n",
      "Epoch [21/60], Loss: 0.0288\n",
      "Epoch [22/60], Loss: 0.0332\n",
      "Epoch [23/60], Loss: 0.0352\n",
      "Epoch [24/60], Loss: 0.0348\n",
      "Epoch [25/60], Loss: 0.0341\n",
      "Epoch [26/60], Loss: 0.0320\n",
      "Epoch [27/60], Loss: 0.0327\n",
      "Epoch [28/60], Loss: 0.0287\n",
      "Epoch [29/60], Loss: 0.0267\n",
      "Epoch [30/60], Loss: 0.0269\n",
      "Epoch [31/60], Loss: 0.0251\n",
      "Epoch [32/60], Loss: 0.0302\n",
      "Epoch [33/60], Loss: 0.0289\n",
      "Epoch [34/60], Loss: 0.0224\n",
      "Epoch [35/60], Loss: 0.0295\n",
      "Epoch [36/60], Loss: 0.0257\n",
      "Epoch [37/60], Loss: 0.0284\n",
      "Epoch [38/60], Loss: 0.0284\n",
      "Epoch [39/60], Loss: 0.0278\n",
      "Epoch [40/60], Loss: 0.0335\n",
      "Epoch [41/60], Loss: 0.0256\n",
      "Epoch [42/60], Loss: 0.0181\n",
      "Epoch [43/60], Loss: 0.0217\n",
      "Epoch [44/60], Loss: 0.0235\n",
      "Epoch [45/60], Loss: 0.0275\n",
      "Epoch [46/60], Loss: 0.0218\n",
      "Epoch [47/60], Loss: 0.0231\n",
      "Epoch [48/60], Loss: 0.0251\n",
      "Epoch [49/60], Loss: 0.0276\n",
      "Epoch [50/60], Loss: 0.0260\n",
      "Epoch [51/60], Loss: 0.0303\n",
      "Epoch [52/60], Loss: 0.0239\n",
      "Epoch [53/60], Loss: 0.0121\n",
      "Epoch [54/60], Loss: 0.0268\n",
      "Epoch [55/60], Loss: 0.0264\n",
      "Epoch [56/60], Loss: 0.0204\n",
      "Epoch [57/60], Loss: 0.0155\n",
      "Epoch [58/60], Loss: 0.0208\n",
      "Epoch [59/60], Loss: 0.0260\n",
      "Epoch [60/60], Loss: 0.0215\n"
     ]
    }
   ],
   "source": [
    "for epoch in range(num_epochs):\n",
    "    epoch_loss = 0.0\n",
    "    for batch_idx, (data, targets) in enumerate(train_dataloader):\n",
    "        data = data.to(device = device)\n",
    "        targets = targets.to(device = device)\n",
    "\n",
    "        # Forward pass\n",
    "        scores = model(data)\n",
    "        loss = criterion(scores, targets)\n",
    "\n",
    "        optimizer.zero_grad()\n",
    "        loss.backward()\n",
    "        optimizer.step()\n",
    "        \n",
    "        epoch_loss += loss.item()\n",
    "    \n",
    "    print(f'Epoch [{epoch+1}/{num_epochs}], Loss: {epoch_loss/len(train_dataloader):.4f}')\n"
   ]
  },
  {
   "cell_type": "code",
   "execution_count": 25,
   "id": "3f36802a",
   "metadata": {
    "execution": {
     "iopub.execute_input": "2025-08-27T17:12:21.054941Z",
     "iopub.status.busy": "2025-08-27T17:12:21.054651Z",
     "iopub.status.idle": "2025-08-27T17:12:22.947322Z",
     "shell.execute_reply": "2025-08-27T17:12:22.946545Z",
     "shell.execute_reply.started": "2025-08-27T17:12:21.054915Z"
    },
    "trusted": true
   },
   "outputs": [
    {
     "name": "stdout",
     "output_type": "stream",
     "text": [
      "Got 9933 / 10000 with accuracy 99.33\n",
      "Got 2887 / 3000 with accuracy 96.23\n"
     ]
    },
    {
     "data": {
      "text/plain": [
       "0.9623333333333334"
      ]
     },
     "execution_count": 25,
     "metadata": {},
     "output_type": "execute_result"
    }
   ],
   "source": [
    "def check_accuracy(loader, model):\n",
    "    num_correct = 0\n",
    "    num_samples = 0\n",
    "\n",
    "    with torch.no_grad():\n",
    "        for x, y in loader:\n",
    "            x = x.to(device = device)\n",
    "            y = y.to(device = device)\n",
    "            scores = model(x)\n",
    "            _, predictions = scores.max(1)\n",
    "            num_correct += (predictions == y).sum()\n",
    "            num_samples += predictions.size(0)\n",
    "    acc = float(num_correct) / num_samples\n",
    "    print(f'Got {num_correct} / {num_samples} with accuracy {acc * 100:.2f}')\n",
    "    return acc\n",
    "\n",
    "check_accuracy(train_dataloader, model)\n",
    "check_accuracy(test_dataloader, model)"
   ]
  },
  {
   "cell_type": "markdown",
   "id": "d6986dd4",
   "metadata": {},
   "source": [
    "- Number of epochs as 10 - 1% accuracy\n",
    "- Number of epochs as 100 - 100% accuracy\n",
    "- Right now model is just memorizing, need to add more samples."
   ]
  },
  {
   "cell_type": "markdown",
   "id": "943d9969",
   "metadata": {},
   "source": [
    "- then i reduced from 6m to 500k parameters and model works fine now."
   ]
  }
 ],
 "metadata": {
  "kaggle": {
   "accelerator": "gpu",
   "dataSources": [
    {
     "datasetId": 8154468,
     "sourceId": 12888589,
     "sourceType": "datasetVersion"
    },
    {
     "datasetId": 8154492,
     "sourceId": 12888623,
     "sourceType": "datasetVersion"
    }
   ],
   "dockerImageVersionId": 31090,
   "isGpuEnabled": true,
   "isInternetEnabled": true,
   "language": "python",
   "sourceType": "notebook"
  },
  "kernelspec": {
   "display_name": ".venv",
   "language": "python",
   "name": "python3"
  },
  "language_info": {
   "codemirror_mode": {
    "name": "ipython",
    "version": 3
   },
   "file_extension": ".py",
   "mimetype": "text/x-python",
   "name": "python",
   "nbconvert_exporter": "python",
   "pygments_lexer": "ipython3",
   "version": "3.13.7"
  }
 },
 "nbformat": 4,
 "nbformat_minor": 5
}
