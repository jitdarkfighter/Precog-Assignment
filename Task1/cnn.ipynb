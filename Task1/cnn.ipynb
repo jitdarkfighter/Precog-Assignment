{
 "cells": [
  {
   "cell_type": "code",
   "execution_count": 55,
   "id": "9182e477",
   "metadata": {},
   "outputs": [],
   "source": [
    "import torch\n",
    "import torch.nn as nn\n",
    "import torch.nn.functional as F     \n",
    "from torch.utils.data import DataLoader, Dataset, ConcatDataset\n",
    "from torchvision import transforms\n",
    "from PIL import Image\n",
    "import pandas as pd\n",
    "import os\n",
    "    "
   ]
  },
  {
   "cell_type": "code",
   "execution_count": 56,
   "id": "b960a1cd",
   "metadata": {},
   "outputs": [],
   "source": [
    "class CNN(nn.Module):\n",
    "    def __init__(self, input_chnls, num_classes):\n",
    "        super(CNN, self).__init__()\n",
    "        self.conv1 = nn.Conv2d(in_channels = input_chnls, out_channels = 16, kernel_size = 5, stride = 1, padding = 2)\n",
    "        self.pool = nn.MaxPool2d(kernel_size = 2, stride = 2, padding = 0)\n",
    "        self.conv2 = nn.Conv2d(in_channels = 16, out_channels = 32, kernel_size = 5, stride = 1, padding = 2)\n",
    "        self.fc1 = nn.Linear(32*62*25, 120)\n",
    "        self.fc2 = nn.Linear(120, num_classes)\n",
    "        self.dropout = nn.Dropout(0.2) \n",
    "\n",
    "    def forward(self, x):\n",
    "        x = self.pool(F.relu(self.conv1(x)))\n",
    "        x = self.pool(F.relu(self.conv2(x)))\n",
    "        x = x.view(x.size(0), -1)  # Flatten using batch size and -1 for auto calculation\n",
    "        x = F.relu(self.fc1(x))\n",
    "        x = self.dropout(x)  \n",
    "        x = self.fc2(x)\n",
    "        return x\n"
   ]
  },
  {
   "cell_type": "code",
   "execution_count": 57,
   "id": "897bcc53",
   "metadata": {},
   "outputs": [],
   "source": [
    "device = torch.device('cuda' if torch.cuda.is_available() else 'cpu')"
   ]
  },
  {
   "cell_type": "code",
   "execution_count": 58,
   "id": "9dabb46a",
   "metadata": {},
   "outputs": [
    {
     "data": {
      "text/plain": [
       "device(type='cuda')"
      ]
     },
     "execution_count": 58,
     "metadata": {},
     "output_type": "execute_result"
    }
   ],
   "source": [
    "device"
   ]
  },
  {
   "cell_type": "code",
   "execution_count": 59,
   "id": "ef0b9062",
   "metadata": {},
   "outputs": [],
   "source": [
    "model = CNN(3, 100).to(device)"
   ]
  },
  {
   "cell_type": "code",
   "execution_count": 60,
   "id": "e041e670",
   "metadata": {},
   "outputs": [],
   "source": [
    "class CustomImageDataset(Dataset):\n",
    "    def __init__(self, csv_file, img_dir, transforms = None, class_to_idx = None):\n",
    "        self.labels_df = pd.read_csv(csv_file)\n",
    "        self.img_dir = img_dir \n",
    "        self.transforms = transforms\n",
    "        self.class_to_idx = class_to_idx\n",
    "\n",
    "\n",
    "\n",
    "    def __len__(self):\n",
    "        return len(self.labels_df)\n",
    "    \n",
    "    def __getitem__(self, idx):\n",
    "        img_name = self.labels_df.iloc[idx, 0]\n",
    "        img_path = os.path.join(self.img_dir, img_name)\n",
    "\n",
    "        image = Image.open(img_path)\n",
    "        label = self.labels_df.iloc[idx, 1]\n",
    "        y_label = self.class_to_idx[label]\n",
    "\n",
    "        if self.transforms:\n",
    "            image = self.transforms(image)\n",
    "\n",
    "        return image, y_label"
   ]
  },
  {
   "cell_type": "code",
   "execution_count": 61,
   "id": "8ccbddec",
   "metadata": {},
   "outputs": [],
   "source": [
    "transform = transforms.Compose([\n",
    "    transforms.Resize((250, 100)),\n",
    "    transforms.ToTensor(),\n",
    "    transforms.Normalize((0.5, 0.5, 0.5), (0.5, 0.5, 0.5))\n",
    "])\n"
   ]
  },
  {
   "cell_type": "code",
   "execution_count": 62,
   "id": "341ac5cd",
   "metadata": {},
   "outputs": [
    {
     "data": {
      "text/plain": [
       "100"
      ]
     },
     "execution_count": 62,
     "metadata": {},
     "output_type": "execute_result"
    }
   ],
   "source": [
    "with open('ai_wordlist.txt', 'r') as f:\n",
    "    words = [line.strip() for line in f.readlines()]\n",
    "\n",
    "class_to_idx = {word: idx for idx, word in enumerate(words)}\n",
    "\n",
    "len(class_to_idx)\n",
    "\n"
   ]
  },
  {
   "cell_type": "code",
   "execution_count": 63,
   "id": "51187ff3",
   "metadata": {},
   "outputs": [],
   "source": [
    "train_dataset_easy = CustomImageDataset(\n",
    "    csv_file = 'captcha_images/train/labels_easy.csv',\n",
    "    img_dir = 'captcha_images/train/easy',\n",
    "    transforms = transform,\n",
    "    class_to_idx = class_to_idx\n",
    ")\n",
    "\n",
    "train_dataset_hard = CustomImageDataset(\n",
    "    csv_file = 'captcha_images/train/labels_hard.csv',\n",
    "    img_dir = 'captcha_images/train/hard',\n",
    "    transforms = transform,\n",
    "    class_to_idx = class_to_idx\n",
    ")\n",
    "\n",
    "train_dataset = ConcatDataset([train_dataset_easy, train_dataset_hard])\n",
    "\n",
    "test_dataset_easy = CustomImageDataset(\n",
    "    csv_file = 'captcha_images/test/labels_easy.csv',\n",
    "    img_dir = 'captcha_images/test/easy',\n",
    "    transforms = transform,\n",
    "    class_to_idx = class_to_idx\n",
    ")\n",
    "\n",
    "test_dataset_hard = CustomImageDataset(\n",
    "    csv_file = 'captcha_images/test/labels_hard.csv',\n",
    "    img_dir = 'captcha_images/test/hard',\n",
    "    transforms = transform,\n",
    "    class_to_idx = class_to_idx\n",
    ")\n",
    "\n",
    "test_dataset = ConcatDataset([test_dataset_easy, test_dataset_hard])"
   ]
  },
  {
   "cell_type": "code",
   "execution_count": 64,
   "id": "1b2975c5",
   "metadata": {},
   "outputs": [],
   "source": [
    "\n",
    "train_dataloader = DataLoader(train_dataset, batch_size = 16, shuffle = True)\n",
    "test_dataloader = DataLoader(test_dataset, batch_size = 16, shuffle = False)"
   ]
  },
  {
   "cell_type": "code",
   "execution_count": 65,
   "id": "fe9881ee",
   "metadata": {},
   "outputs": [],
   "source": [
    "optimizer = torch.optim.Adam(model.parameters(), lr = 0.001)"
   ]
  },
  {
   "cell_type": "code",
   "execution_count": 66,
   "id": "4b21cdad",
   "metadata": {},
   "outputs": [],
   "source": [
    "criterion = nn.CrossEntropyLoss()"
   ]
  },
  {
   "cell_type": "code",
   "execution_count": null,
   "id": "836bebd5",
   "metadata": {},
   "outputs": [],
   "source": [
    "num_epochs = 50"
   ]
  },
  {
   "cell_type": "code",
   "execution_count": 70,
   "id": "5102d820",
   "metadata": {},
   "outputs": [
    {
     "name": "stdout",
     "output_type": "stream",
     "text": [
      "0 99\n",
      "100\n"
     ]
    }
   ],
   "source": [
    "all_labels = []\n",
    "for _, labels in train_dataloader:\n",
    "    all_labels.extend(labels.tolist())\n",
    "\n",
    "print(min(all_labels), max(all_labels))  # should be 0 and num_classes-1\n",
    "print(len(set(all_labels)))  # should equal num_classes\n"
   ]
  },
  {
   "cell_type": "code",
   "execution_count": 69,
   "id": "3f36802a",
   "metadata": {},
   "outputs": [
    {
     "name": "stdout",
     "output_type": "stream",
     "text": [
      "Got 960 / 1000 with accuracy 96.00\n",
      "Got 199 / 500 with accuracy 39.80\n"
     ]
    },
    {
     "data": {
      "text/plain": [
       "0.398"
      ]
     },
     "execution_count": 69,
     "metadata": {},
     "output_type": "execute_result"
    }
   ],
   "source": [
    "def check_accuracy(loader, model):\n",
    "    num_correct = 0\n",
    "    num_samples = 0\n",
    "\n",
    "    with torch.no_grad():\n",
    "        for x, y in loader:\n",
    "            x = x.to(device = device)\n",
    "            y = y.to(device = device)\n",
    "            scores = model(x)\n",
    "            _, predictions = scores.max(1)\n",
    "            num_correct += (predictions == y).sum()\n",
    "            num_samples += predictions.size(0)\n",
    "    acc = float(num_correct) / num_samples\n",
    "    print(f'Got {num_correct} / {num_samples} with accuracy {acc * 100:.2f}')\n",
    "    return acc\n",
    "\n",
    "check_accuracy(train_dataloader, model)\n",
    "check_accuracy(test_dataloader, model)"
   ]
  },
  {
   "cell_type": "markdown",
   "id": "d6986dd4",
   "metadata": {},
   "source": [
    "- Number of epochs as 10 - 1% accuracy\n",
    "- Number of epochs as 100 - 100% accuracy\n",
    "- Right now model is just memorizing, need to add more samples."
   ]
  }
 ],
 "metadata": {
  "kernelspec": {
   "display_name": ".venv",
   "language": "python",
   "name": "python3"
  },
  "language_info": {
   "codemirror_mode": {
    "name": "ipython",
    "version": 3
   },
   "file_extension": ".py",
   "mimetype": "text/x-python",
   "name": "python",
   "nbconvert_exporter": "python",
   "pygments_lexer": "ipython3",
   "version": "3.13.7"
  }
 },
 "nbformat": 4,
 "nbformat_minor": 5
}
