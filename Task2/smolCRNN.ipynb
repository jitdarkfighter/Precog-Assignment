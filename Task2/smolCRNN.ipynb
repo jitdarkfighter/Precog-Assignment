{
 "cells": [
  {
   "cell_type": "code",
   "execution_count": 61,
   "id": "9182e477",
   "metadata": {
    "execution": {
     "iopub.execute_input": "2025-08-27T17:11:52.421974Z",
     "iopub.status.busy": "2025-08-27T17:11:52.421656Z",
     "iopub.status.idle": "2025-08-27T17:11:52.426892Z",
     "shell.execute_reply": "2025-08-27T17:11:52.425965Z",
     "shell.execute_reply.started": "2025-08-27T17:11:52.421942Z"
    },
    "trusted": true
   },
   "outputs": [],
   "source": [
    "import torch\n",
    "import torch.nn as nn\n",
    "import torch.nn.functional as F     \n",
    "from torch.utils.data import DataLoader, Dataset, ConcatDataset\n",
    "from torchvision import transforms\n",
    "from PIL import Image\n",
    "import pandas as pd\n",
    "import os\n",
    "    "
   ]
  },
  {
   "cell_type": "code",
   "execution_count": 62,
   "id": "29d8aeeb",
   "metadata": {},
   "outputs": [],
   "source": [
    "class CRNN(nn.Module):\n",
    "    def __init__(self, input_channels, num_classes, img_height, img_width):\n",
    "        super(CRNN, self).__init__()\n",
    "\n",
    "        # Getting the spacial features using a CNN\n",
    "        self.conv1 = nn.Conv2d(input_channels, 8, kernel_size=3, padding=1)\n",
    "        self.conv2 = nn.Conv2d(8, 16, kernel_size=3, padding=1)\n",
    "        self.conv3 = nn.Conv2d(16, 32, kernel_size=3, padding=1)\n",
    "        self.pool = nn.MaxPool2d(2, 2)\n",
    "\n",
    "        cnn_output_height = img_height // 8\n",
    "        rnn_input_size = 32*cnn_output_height\n",
    "\n",
    "        self.bi_lstm = nn.LSTM(input_size=rnn_input_size, hidden_size=128, num_layers=2, bidirectional=True)\n",
    "\n",
    "        # Final classification layer (Transcription layer)\n",
    "        self.fc = nn.Linear(128 * 2, num_classes)\n",
    "\n",
    "    def forward(self, x):\n",
    "        x = self.pool(F.relu(self.conv1(x)))\n",
    "        x = self.pool(F.relu(self.conv2(x)))\n",
    "        x = self.pool(F.relu(self.conv3(x)))\n",
    "        \n",
    "\n",
    "        \"\"\"\n",
    "        According to the paper\n",
    "        from left to right, a vector of feature sequence is generated from the feature maps. \n",
    "        This means the ith feature vector is the concatenation of the ith column of all maps\n",
    "        \"\"\"\n",
    "        b,c,h,w = x.size()\n",
    "        # (Batch size, channels*height, width)\n",
    "        x = x.view(b, c*h, w)\n",
    "        # (sequence length = width, batch = b, features = channels*height)\n",
    "        x = x.permute(2, 0, 1)  \n",
    "\n",
    "        x, _ = self.bi_lstm(x)\n",
    "        x = self.fc(x)\n",
    "        return x"
   ]
  },
  {
   "cell_type": "code",
   "execution_count": 63,
   "id": "897bcc53",
   "metadata": {
    "execution": {
     "iopub.execute_input": "2025-08-27T17:11:52.448417Z",
     "iopub.status.busy": "2025-08-27T17:11:52.448188Z",
     "iopub.status.idle": "2025-08-27T17:11:52.464762Z",
     "shell.execute_reply": "2025-08-27T17:11:52.464077Z",
     "shell.execute_reply.started": "2025-08-27T17:11:52.448391Z"
    },
    "trusted": true
   },
   "outputs": [],
   "source": [
    "device = torch.device('cuda' if torch.cuda.is_available() else 'cpu')"
   ]
  },
  {
   "cell_type": "code",
   "execution_count": 64,
   "id": "9dabb46a",
   "metadata": {
    "execution": {
     "iopub.execute_input": "2025-08-27T17:11:52.466637Z",
     "iopub.status.busy": "2025-08-27T17:11:52.466389Z",
     "iopub.status.idle": "2025-08-27T17:11:52.483985Z",
     "shell.execute_reply": "2025-08-27T17:11:52.483118Z",
     "shell.execute_reply.started": "2025-08-27T17:11:52.466619Z"
    },
    "trusted": true
   },
   "outputs": [
    {
     "data": {
      "text/plain": [
       "device(type='cuda')"
      ]
     },
     "execution_count": 64,
     "metadata": {},
     "output_type": "execute_result"
    }
   ],
   "source": [
    "device"
   ]
  },
  {
   "cell_type": "code",
   "execution_count": 65,
   "id": "27e0fd6c",
   "metadata": {},
   "outputs": [],
   "source": [
    "vocab = \"abcdefghijklmnopqrstuvwxyzABCDEFGHIJKLMNOPQRSTUVWXYZ0123456789\"\n",
    "char_to_idx = {c:i+1 for i, c in enumerate(vocab)} \n",
    "idx_to_char = {i+1:c for i, c in enumerate(vocab)}\n",
    "\n",
    " "
   ]
  },
  {
   "cell_type": "code",
   "execution_count": 66,
   "id": "b9dca9b4",
   "metadata": {},
   "outputs": [],
   "source": [
    "input_channels = 3\n",
    "# vocab size (no. of characters) + blank\n",
    "num_classes = len(vocab) + 1 \n",
    "img_height = 200\n",
    "img_width = 80"
   ]
  },
  {
   "cell_type": "code",
   "execution_count": 67,
   "id": "ef0b9062",
   "metadata": {
    "execution": {
     "iopub.execute_input": "2025-08-27T17:11:52.485182Z",
     "iopub.status.busy": "2025-08-27T17:11:52.484869Z",
     "iopub.status.idle": "2025-08-27T17:11:52.557288Z",
     "shell.execute_reply": "2025-08-27T17:11:52.556595Z",
     "shell.execute_reply.started": "2025-08-27T17:11:52.485135Z"
    },
    "trusted": true
   },
   "outputs": [],
   "source": [
    "model = CRNN(input_channels=input_channels, num_classes=num_classes, img_height=img_height, img_width=img_width).to(device)"
   ]
  },
  {
   "cell_type": "code",
   "execution_count": 68,
   "id": "e041e670",
   "metadata": {
    "execution": {
     "iopub.execute_input": "2025-08-27T17:11:52.558298Z",
     "iopub.status.busy": "2025-08-27T17:11:52.558057Z",
     "iopub.status.idle": "2025-08-27T17:11:52.564077Z",
     "shell.execute_reply": "2025-08-27T17:11:52.563439Z",
     "shell.execute_reply.started": "2025-08-27T17:11:52.558279Z"
    },
    "trusted": true
   },
   "outputs": [],
   "source": [
    "class CustomImageDataset(Dataset):\n",
    "    def __init__(self, csv_file, img_dir, transforms = None, char_to_idx = None):\n",
    "        self.labels_df = pd.read_csv(csv_file)\n",
    "        self.img_dir = img_dir \n",
    "        self.transforms = transforms\n",
    "        self.char_to_idx = char_to_idx\n",
    "\n",
    "\n",
    "    def __len__(self):\n",
    "        return len(self.labels_df)\n",
    "    \n",
    "    def __getitem__(self, idx):\n",
    "        img_name = self.labels_df.iloc[idx, 0]\n",
    "        img_path = os.path.join(self.img_dir, img_name)\n",
    "\n",
    "        image = Image.open(img_path)\n",
    "        label = self.labels_df.iloc[idx, 1]\n",
    "        y_label = [self.char_to_idx[c] for c in label]\n",
    "        # print(y_label)\n",
    "        if self.transforms:\n",
    "            image = self.transforms(image)\n",
    "\n",
    "        return image, torch.tensor(y_label)"
   ]
  },
  {
   "cell_type": "code",
   "execution_count": 69,
   "id": "8ccbddec",
   "metadata": {
    "execution": {
     "iopub.execute_input": "2025-08-27T17:11:52.565092Z",
     "iopub.status.busy": "2025-08-27T17:11:52.564859Z",
     "iopub.status.idle": "2025-08-27T17:11:52.582417Z",
     "shell.execute_reply": "2025-08-27T17:11:52.581518Z",
     "shell.execute_reply.started": "2025-08-27T17:11:52.565074Z"
    },
    "trusted": true
   },
   "outputs": [],
   "source": [
    "transform = transforms.Compose([\n",
    "    transforms.Resize((200, 80)),\n",
    "    transforms.ToTensor(),\n",
    "    transforms.Normalize((0.5, 0.5, 0.5), (0.5, 0.5, 0.5))\n",
    "])\n"
   ]
  },
  {
   "cell_type": "code",
   "execution_count": 87,
   "id": "51187ff3",
   "metadata": {
    "execution": {
     "iopub.execute_input": "2025-08-27T17:11:52.614711Z",
     "iopub.status.busy": "2025-08-27T17:11:52.614473Z",
     "iopub.status.idle": "2025-08-27T17:11:52.641654Z",
     "shell.execute_reply": "2025-08-27T17:11:52.641022Z",
     "shell.execute_reply.started": "2025-08-27T17:11:52.614693Z"
    },
    "trusted": true
   },
   "outputs": [],
   "source": [
    "train_dataset_easy = CustomImageDataset(\n",
    "    csv_file = 'captcha_images/train/labels_easy.csv',\n",
    "    img_dir = 'captcha_images/train/easy',\n",
    "    transforms = transform,\n",
    "    char_to_idx = char_to_idx \n",
    ")\n",
    "\n",
    "train_dataset_hard = CustomImageDataset(\n",
    "    csv_file = 'captcha_images/train/labels_hard.csv',\n",
    "    img_dir = 'captcha_images/train/hard',\n",
    "    transforms = transform,\n",
    "    char_to_idx = char_to_idx\n",
    ")\n",
    "\n",
    "train_dataset = ConcatDataset([train_dataset_easy, train_dataset_hard])\n",
    "\n",
    "\n",
    "test_dataset_easy = CustomImageDataset(\n",
    "    csv_file = 'captcha_images/test/labels_easy.csv',\n",
    "    img_dir = 'captcha_images/test/easy',\n",
    "    transforms = transform,\n",
    "    char_to_idx = char_to_idx\n",
    ")\n",
    "\n",
    "test_dataset_hard = CustomImageDataset(\n",
    "    csv_file = 'captcha_images/test/labels_hard.csv',\n",
    "    img_dir = 'captcha_images/test/hard',\n",
    "    transforms = transform,\n",
    "    char_to_idx = char_to_idx\n",
    ")\n",
    "\n",
    "test_dataset = ConcatDataset([test_dataset_easy, test_dataset_hard])\n"
   ]
  },
  {
   "cell_type": "code",
   "execution_count": 71,
   "id": "2142e98f",
   "metadata": {},
   "outputs": [],
   "source": [
    "def ctc_collate_fn(batch):\n",
    "    # [(image, tensor label), (image, tensor label)] -> (image1, image2),(tensor label1, tensor label2)\n",
    "    images, labels = zip(*batch)\n",
    "    images = torch.stack(images)\n",
    "\n",
    "    targets = torch.cat(labels)\n",
    "\n",
    "    target_lengths = torch.tensor([len(label) for label in labels], dtype=torch.long)\n",
    "\n",
    "    return images, targets, target_lengths"
   ]
  },
  {
   "cell_type": "code",
   "execution_count": 88,
   "id": "1b2975c5",
   "metadata": {
    "execution": {
     "iopub.execute_input": "2025-08-27T17:11:52.642695Z",
     "iopub.status.busy": "2025-08-27T17:11:52.642422Z",
     "iopub.status.idle": "2025-08-27T17:11:52.647808Z",
     "shell.execute_reply": "2025-08-27T17:11:52.646905Z",
     "shell.execute_reply.started": "2025-08-27T17:11:52.642666Z"
    },
    "trusted": true
   },
   "outputs": [],
   "source": [
    "\n",
    "train_dataloader = DataLoader(train_dataset, batch_size = 8, shuffle = True, collate_fn=ctc_collate_fn, num_workers=4)\n",
    "test_dataloader = DataLoader(test_dataset, batch_size = 8, shuffle = False, collate_fn=ctc_collate_fn, num_workers=4)"
   ]
  },
  {
   "cell_type": "code",
   "execution_count": 73,
   "id": "fe9881ee",
   "metadata": {
    "execution": {
     "iopub.execute_input": "2025-08-27T17:11:52.649115Z",
     "iopub.status.busy": "2025-08-27T17:11:52.648825Z",
     "iopub.status.idle": "2025-08-27T17:11:52.663777Z",
     "shell.execute_reply": "2025-08-27T17:11:52.663054Z",
     "shell.execute_reply.started": "2025-08-27T17:11:52.649088Z"
    },
    "trusted": true
   },
   "outputs": [],
   "source": [
    "optimizer = torch.optim.Adam(model.parameters(), lr = 0.001)"
   ]
  },
  {
   "cell_type": "code",
   "execution_count": 74,
   "id": "4b21cdad",
   "metadata": {
    "execution": {
     "iopub.execute_input": "2025-08-27T17:11:52.666526Z",
     "iopub.status.busy": "2025-08-27T17:11:52.665798Z",
     "iopub.status.idle": "2025-08-27T17:11:52.680891Z",
     "shell.execute_reply": "2025-08-27T17:11:52.680050Z",
     "shell.execute_reply.started": "2025-08-27T17:11:52.666491Z"
    },
    "trusted": true
   },
   "outputs": [],
   "source": [
    "# Earlier I used CrossEntropyLoss, but that cant handle variable target lengths\n",
    "criterion = nn.CTCLoss(blank=0, zero_infinity=True)"
   ]
  },
  {
   "cell_type": "code",
   "execution_count": 75,
   "id": "9e24a72c-6985-435f-8216-dffb2af9ad2f",
   "metadata": {
    "execution": {
     "iopub.execute_input": "2025-08-27T17:11:52.682729Z",
     "iopub.status.busy": "2025-08-27T17:11:52.681944Z",
     "iopub.status.idle": "2025-08-27T17:11:52.698937Z",
     "shell.execute_reply": "2025-08-27T17:11:52.698046Z",
     "shell.execute_reply.started": "2025-08-27T17:11:52.682701Z"
    },
    "trusted": true
   },
   "outputs": [],
   "source": [
    "num_epochs = 15"
   ]
  },
  {
   "cell_type": "code",
   "execution_count": null,
   "id": "9a970ddd",
   "metadata": {},
   "outputs": [
    {
     "name": "stdout",
     "output_type": "stream",
     "text": [
      "Epoch [1/15], Loss: 1.2173\n",
      "Epoch [2/15], Loss: 0.3358\n",
      "Epoch [2/15], Loss: 0.3358\n",
      "Epoch [3/15], Loss: 0.2108\n",
      "Epoch [3/15], Loss: 0.2108\n",
      "Epoch [4/15], Loss: 0.1523\n",
      "Epoch [4/15], Loss: 0.1523\n",
      "Epoch [5/15], Loss: 0.1189\n",
      "Epoch [5/15], Loss: 0.1189\n",
      "Epoch [6/15], Loss: 0.0956\n",
      "Epoch [6/15], Loss: 0.0956\n",
      "Epoch [7/15], Loss: 0.0809\n",
      "Epoch [7/15], Loss: 0.0809\n",
      "Epoch [8/15], Loss: 0.0698\n",
      "Epoch [8/15], Loss: 0.0698\n",
      "Epoch [9/15], Loss: 0.0621\n",
      "Epoch [9/15], Loss: 0.0621\n",
      "Epoch [10/15], Loss: 0.0571\n",
      "Epoch [10/15], Loss: 0.0571\n",
      "Epoch [11/15], Loss: 0.0529\n",
      "Epoch [11/15], Loss: 0.0529\n",
      "Epoch [12/15], Loss: 0.0516\n",
      "Epoch [12/15], Loss: 0.0516\n",
      "Epoch [13/15], Loss: 0.0487\n",
      "Epoch [13/15], Loss: 0.0487\n",
      "Epoch [14/15], Loss: 0.0448\n",
      "Epoch [14/15], Loss: 0.0448\n",
      "Epoch [15/15], Loss: 0.0442\n",
      "Epoch [15/15], Loss: 0.0442\n"
     ]
    }
   ],
   "source": [
    "# for epoch in range(num_epochs):\n",
    "#     model.train()\n",
    "#     epoch_loss = 0.0\n",
    "#     for batch_idx, (data, targets, target_lengths) in enumerate(train_dataloader):\n",
    "#         data = data.to(device = device)\n",
    "#         targets = targets.to(device = device)\n",
    "#         target_lengths = target_lengths.to(device = device)\n",
    "\n",
    "#         # Forward pass\n",
    "#         scores = model(data)\n",
    "#         scores = scores.log_softmax(2)\n",
    "\n",
    "#         seq_len, batch_size, _ = scores.size()\n",
    "#         input_lengths = torch.full(size=(batch_size,), fill_value=seq_len, dtype=torch.long).to(device)\n",
    "        \n",
    "#         loss = criterion(scores, targets, input_lengths, target_lengths)\n",
    "\n",
    "#         optimizer.zero_grad()\n",
    "#         loss.backward()\n",
    "#         optimizer.step()\n",
    "        \n",
    "#         epoch_loss += loss.item()\n",
    "    \n",
    "#     print(f'Epoch [{epoch+1}/{num_epochs}], Loss: {epoch_loss/len(train_dataloader):.4f}')\n"
   ]
  },
  {
   "cell_type": "markdown",
   "id": "d6986dd4",
   "metadata": {},
   "source": [
    "- Number of epochs as 10 - 1% accuracy\n",
    "- Number of epochs as 100 - 100% accuracy\n",
    "- Right now model is just memorizing, need to add more samples."
   ]
  },
  {
   "cell_type": "markdown",
   "id": "943d9969",
   "metadata": {},
   "source": [
    "- then i reduced from 6m to 500k parameters and model works fine now."
   ]
  },
  {
   "cell_type": "code",
   "execution_count": null,
   "id": "6ec0ec86",
   "metadata": {},
   "outputs": [
    {
     "name": "stdout",
     "output_type": "stream",
     "text": [
      "Model saved as smolCRNN_model.pth\n"
     ]
    }
   ],
   "source": [
    "# torch.save(model.state_dict(), 'smolCRNN_model.pth')\n",
    "# print(\"Model saved as smolCRNN_model.pth\")"
   ]
  },
  {
   "cell_type": "code",
   "execution_count": 80,
   "id": "bc58703b",
   "metadata": {},
   "outputs": [
    {
     "name": "stdout",
     "output_type": "stream",
     "text": [
      "Model loaded successfully for evaluation\n"
     ]
    }
   ],
   "source": [
    "# Load the saved model for evaluation\n",
    "loaded_model = CRNN(input_channels=input_channels, num_classes=num_classes, img_height=img_height, img_width=img_width).to(device)\n",
    "loaded_model.load_state_dict(torch.load('smolCRNN_model.pth'))\n",
    "loaded_model.eval()\n",
    "print(\"Model loaded successfully for evaluation\")"
   ]
  },
  {
   "cell_type": "code",
   "execution_count": null,
   "id": "4ee1596d",
   "metadata": {},
   "outputs": [],
   "source": [
    "def ctc_decode(preds, idx_to_char):\n",
    "    preds = preds.cpu().numpy()\n",
    "    seq_len, batch_size = preds.shape\n",
    "    decoded = []\n",
    "\n",
    "    for b in range(batch_size):\n",
    "        seq = preds[:, b]\n",
    "        word = []\n",
    "        prev = None\n",
    "        for idx in seq:\n",
    "            if idx != prev and idx != 0:  # remove blanks and repeated\n",
    "                word.append(idx_to_char[idx])\n",
    "            prev = idx\n",
    "        decoded.append(\"\".join(word))\n",
    "    return decoded\n"
   ]
  },
  {
   "cell_type": "code",
   "execution_count": 84,
   "id": "8ef3e86e",
   "metadata": {},
   "outputs": [],
   "source": [
    "train_dataset_easy = CustomImageDataset(\n",
    "    csv_file = 'wordlist_captcha_images/train/labels_easy.csv',\n",
    "    img_dir = 'wordlist_captcha_images/train/easy',\n",
    "    transforms = transform,\n",
    "    char_to_idx = char_to_idx \n",
    ")\n",
    "\n",
    "train_dataset_hard = CustomImageDataset(\n",
    "    csv_file = 'wordlist_captcha_images/train/labels_hard.csv',\n",
    "    img_dir = 'wordlist_captcha_images/train/hard',\n",
    "    transforms = transform,\n",
    "    char_to_idx = char_to_idx\n",
    ")\n",
    "\n",
    "train_dataset = ConcatDataset([train_dataset_easy, train_dataset_hard])\n",
    "\n",
    "\n",
    "test_dataset_easy = CustomImageDataset(\n",
    "    csv_file = 'wordlist_captcha_images/test/labels_easy.csv',\n",
    "    img_dir = 'wordlist_captcha_images/test/easy',\n",
    "    transforms = transform,\n",
    "    char_to_idx = char_to_idx\n",
    ")\n",
    "\n",
    "test_dataset_hard = CustomImageDataset(\n",
    "    csv_file = 'wordlist_captcha_images/test/labels_hard.csv',\n",
    "    img_dir = 'wordlist_captcha_images/test/hard',\n",
    "    transforms = transform,\n",
    "    char_to_idx = char_to_idx\n",
    ")\n",
    "\n",
    "test_dataset = ConcatDataset([test_dataset_easy, test_dataset_hard])\n"
   ]
  },
  {
   "cell_type": "code",
   "execution_count": 85,
   "id": "db67ff1a",
   "metadata": {},
   "outputs": [],
   "source": [
    "\n",
    "train_dataloader = DataLoader(train_dataset, batch_size = 8, shuffle = True, collate_fn=ctc_collate_fn, num_workers=4)\n",
    "test_dataloader = DataLoader(test_dataset, batch_size = 8, shuffle = False, collate_fn=ctc_collate_fn, num_workers=4)"
   ]
  },
  {
   "cell_type": "code",
   "execution_count": 89,
   "id": "3f2d22df",
   "metadata": {},
   "outputs": [
    {
     "name": "stdout",
     "output_type": "stream",
     "text": [
      "Accuracy: 93.19% (46595/50000)\n",
      "Accuracy: 84.04% (12606/15000)\n",
      "Accuracy: 84.04% (12606/15000)\n"
     ]
    },
    {
     "data": {
      "text/plain": [
       "0.8404"
      ]
     },
     "execution_count": 89,
     "metadata": {},
     "output_type": "execute_result"
    }
   ],
   "source": [
    "def check_crnn_accuracy(loader, model, idx_to_char):\n",
    "    model.eval()\n",
    "    num_correct = 0\n",
    "    num_samples = 0\n",
    "\n",
    "    with torch.no_grad():\n",
    "        for images, targets, target_lengths in loader:\n",
    "            images = images.to(device)\n",
    "            # forward pass\n",
    "            scores = model(images)  \n",
    "            preds = scores.argmax(2)  \n",
    "            decoded_words = ctc_decode(preds, idx_to_char)\n",
    "\n",
    "            # reconstruct true words from targets\n",
    "            targets = targets.cpu().numpy()\n",
    "            ptr = 0\n",
    "            true_words = []\n",
    "            for length in target_lengths:\n",
    "                word_indices = targets[ptr:ptr+length]\n",
    "                word = \"\".join([idx_to_char[idx] for idx in word_indices])\n",
    "                true_words.append(word)\n",
    "                ptr += length\n",
    "\n",
    "            # compare\n",
    "            for pred_word, true_word in zip(decoded_words, true_words):\n",
    "                if pred_word == true_word:\n",
    "                    num_correct += 1\n",
    "                num_samples += 1\n",
    "\n",
    "    acc = num_correct / num_samples\n",
    "    print(f'Accuracy: {acc*100:.2f}% ({num_correct}/{num_samples})')\n",
    "    return acc\n",
    "\n",
    "check_crnn_accuracy(train_dataloader, model, idx_to_char)\n",
    "check_crnn_accuracy(test_dataloader, model, idx_to_char)\n"
   ]
  },
  {
   "cell_type": "code",
   "execution_count": 90,
   "id": "8d71fadb",
   "metadata": {},
   "outputs": [
    {
     "data": {
      "text/plain": [
       "1369807"
      ]
     },
     "execution_count": 90,
     "metadata": {},
     "output_type": "execute_result"
    }
   ],
   "source": [
    "total_params = sum(p.numel() for p in model.parameters())\n",
    "total_params"
   ]
  }
 ],
 "metadata": {
  "kaggle": {
   "accelerator": "gpu",
   "dataSources": [
    {
     "datasetId": 8154468,
     "sourceId": 12888589,
     "sourceType": "datasetVersion"
    },
    {
     "datasetId": 8154492,
     "sourceId": 12888623,
     "sourceType": "datasetVersion"
    }
   ],
   "dockerImageVersionId": 31090,
   "isGpuEnabled": true,
   "isInternetEnabled": true,
   "language": "python",
   "sourceType": "notebook"
  },
  "kernelspec": {
   "display_name": ".venv",
   "language": "python",
   "name": "python3"
  },
  "language_info": {
   "codemirror_mode": {
    "name": "ipython",
    "version": 3
   },
   "file_extension": ".py",
   "mimetype": "text/x-python",
   "name": "python",
   "nbconvert_exporter": "python",
   "pygments_lexer": "ipython3",
   "version": "3.13.7"
  }
 },
 "nbformat": 4,
 "nbformat_minor": 5
}
