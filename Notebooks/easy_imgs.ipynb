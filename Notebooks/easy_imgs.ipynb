{
 "cells": [
  {
   "cell_type": "code",
   "execution_count": 5,
   "id": "118d687c",
   "metadata": {},
   "outputs": [],
   "source": [
    "import os\n",
    "import csv\n",
    "import random\n",
    "import string\n",
    "from PIL import Image, ImageDraw, ImageFont"
   ]
  },
  {
   "cell_type": "code",
   "execution_count": 6,
   "id": "50d0bc24",
   "metadata": {},
   "outputs": [],
   "source": [
    "output_dir = 'captcha_images/easy'\n",
    "os.makedirs(output_dir, exist_ok=True)\n",
    "Image_size = (200, 80)\n",
    "font_size = 40\n",
    "num_samples = 100\n",
    "font_path = \"/usr/share/fonts/truetype/dejavu/DejaVuSans-Bold.ttf\""
   ]
  },
  {
   "cell_type": "code",
   "execution_count": 7,
   "id": "c6227800",
   "metadata": {},
   "outputs": [],
   "source": [
    "with open('../ai_wordlist.txt', 'r') as f:\n",
    "    words = [line.strip() for line in f.readlines()]"
   ]
  },
  {
   "cell_type": "code",
   "execution_count": 8,
   "id": "81be1625",
   "metadata": {},
   "outputs": [
    {
     "name": "stdout",
     "output_type": "stream",
     "text": [
      "100\n"
     ]
    }
   ],
   "source": [
    "output_file_path = os.path.join(output_dir, 'labels.csv')\n",
    "i = 0\n",
    "with open(output_file_path, mode = 'w', newline = '') as file:\n",
    "    writer = csv.writer(file)\n",
    "    writer.writerow(['filename', 'label'])\n",
    "\n",
    "    print(len(words))\n",
    "    for word in words:\n",
    "        image = Image.new('RGB', Image_size, (255, 255, 255))\n",
    "        draw = ImageDraw.Draw(image)\n",
    "        font = ImageFont.truetype(font_path, font_size)\n",
    "\n",
    "        bbox = draw.textbbox((0, 0), word, font=font)\n",
    "        text_w, text_h = bbox[2] - bbox[0], bbox[3] - bbox[1]\n",
    "        position = ((Image_size[0]-text_w)//2, (Image_size[1]-text_h)//2)\n",
    "        draw.text(position, word, fill=\"black\", font = font)\n",
    "        filename = f\"img_{i}.png\"\n",
    "        i+= 1\n",
    "        image.save(os.path.join(output_dir, filename))\n",
    "        writer.writerow([filename, word])\n",
    "\n"
   ]
  }
 ],
 "metadata": {
  "kernelspec": {
   "display_name": ".venv",
   "language": "python",
   "name": "python3"
  },
  "language_info": {
   "codemirror_mode": {
    "name": "ipython",
    "version": 3
   },
   "file_extension": ".py",
   "mimetype": "text/x-python",
   "name": "python",
   "nbconvert_exporter": "python",
   "pygments_lexer": "ipython3",
   "version": "3.13.7"
  }
 },
 "nbformat": 4,
 "nbformat_minor": 5
}
