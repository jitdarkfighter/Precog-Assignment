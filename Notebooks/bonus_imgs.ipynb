{
 "cells": [
  {
   "cell_type": "code",
   "execution_count": 21,
   "id": "f6d2b50c",
   "metadata": {},
   "outputs": [],
   "source": [
    "import os\n",
    "import numpy as np\n",
    "import csv \n",
    "import random\n",
    "import string\n",
    "from PIL import Image, ImageDraw, ImageFont"
   ]
  },
  {
   "cell_type": "code",
   "execution_count": 22,
   "id": "c2129c71",
   "metadata": {},
   "outputs": [],
   "source": [
    "output_dir = 'captcha_images/bonus'\n",
    "os.makedirs(output_dir, exist_ok=True)\n",
    "image_size = (200,80)\n",
    "font_size = 40\n",
    "num_samples = 100\n",
    "\n",
    "# Extended font list with 11 working fonts for more diversity\n",
    "font_paths = [\n",
    "    # Original working fonts\n",
    "    '../fonts/OpenSans-Regular.ttf',\n",
    "    '../fonts/DejaVuSans.ttf',\n",
    "    '../fonts/Ubuntu-Regular.ttf',\n",
    "    # Additional system fonts\n",
    "    '/usr/share/fonts/liberation/LiberationSans-Regular.ttf',\n",
    "    '/usr/share/fonts/liberation/LiberationSerif-Regular.ttf', \n",
    "    '/usr/share/fonts/liberation/LiberationMono-Regular.ttf',\n",
    "    '/usr/share/fonts/TTF/DejaVuSerif-Bold.ttf',\n",
    "    '/usr/share/fonts/TTF/DejaVuSans-Oblique.ttf',\n",
    "    '/usr/share/fonts/TTF/DejaVuSansCondensed-Bold.ttf',\n",
    "    '/usr/share/fonts/noto/NotoSans-Regular.ttf',\n",
    "    '/usr/share/fonts/noto/NotoSerif-Regular.ttf'\n",
    "]"
   ]
  },
  {
   "cell_type": "code",
   "execution_count": 23,
   "id": "aad8416c",
   "metadata": {},
   "outputs": [],
   "source": [
    "with open('../ai_wordlist.txt', 'r') as f:\n",
    "    words = [line.strip() for line in f.readlines()]"
   ]
  },
  {
   "cell_type": "code",
   "execution_count": 24,
   "id": "f6b5e6a4",
   "metadata": {},
   "outputs": [],
   "source": [
    "def add_noise(image):\n",
    "    np_img = np.array(image).astype(np.int16)\n",
    "    # Reduced noise for colored backgrounds\n",
    "    noise = np.random.normal(0, 15, np_img.shape) \n",
    "    noisy = np.clip(np_img + noise, 0, 255).astype(np.uint8)\n",
    "    return Image.fromarray(noisy)"
   ]
  },
  {
   "cell_type": "code",
   "execution_count": 25,
   "id": "ef1a8996",
   "metadata": {},
   "outputs": [],
   "source": [
    "def random_caps(word):\n",
    "    return ''.join(c.upper() if random.random() > 0.5 else c.lower() for c in word)"
   ]
  },
  {
   "cell_type": "code",
   "execution_count": 30,
   "id": "ac67dcb2",
   "metadata": {},
   "outputs": [],
   "source": [
    "def get_font(font_paths = font_paths):\n",
    "    return random.choice(font_paths)"
   ]
  },
  {
   "cell_type": "code",
   "execution_count": 38,
   "id": "bdb5df59",
   "metadata": {},
   "outputs": [],
   "source": [
    "def generate_dataset(bg_color: str, writer):\n",
    "    i = 0\n",
    "    print(len(words))\n",
    "    for word in words:\n",
    "        font_path = get_font()\n",
    "        word = random_caps(word)\n",
    "        if bg_color == 'red':\n",
    "            bg_color_val = (255, 0, 0)\n",
    "        else:\n",
    "            bg_color_val = (0, 255, 0)\n",
    "        image = Image.new('RGB', image_size, bg_color_val)\n",
    "        draw = ImageDraw.Draw(image)\n",
    "        font = ImageFont.truetype(font_path, font_size)\n",
    "\n",
    "        bbox = draw.textbbox((0, 0), word, font=font)\n",
    "        text_w, text_h = bbox[2] - bbox[0], bbox[3] - bbox[1]\n",
    "        position = ((image_size[0]-text_w)//2, (image_size[1]-text_h)//2)\n",
    "        \n",
    "        draw.text(position, word, fill=50, font=font)\n",
    "\n",
    "        image = add_noise(image)\n",
    "\n",
    "        filename = f\"img_{bg_color}_{i}.png\"\n",
    "        i+= 1\n",
    "        image.save(os.path.join(output_dir, filename))\n",
    "        writer.writerow([filename, word])\n",
    "\n"
   ]
  },
  {
   "cell_type": "code",
   "execution_count": 39,
   "id": "09e3c824",
   "metadata": {},
   "outputs": [
    {
     "name": "stdout",
     "output_type": "stream",
     "text": [
      "100\n",
      "100\n",
      "100\n"
     ]
    }
   ],
   "source": [
    "output_file_path = os.path.join(output_dir, 'labels.csv')\n",
    "with open(output_file_path, mode = 'w', newline = '') as file:\n",
    "        writer = csv.writer(file)\n",
    "        writer.writerow(['filename', 'label'])\n",
    "        for bg_color in ['green','red']:\n",
    "                generate_dataset(bg_color, writer)"
   ]
  }
 ],
 "metadata": {
  "kernelspec": {
   "display_name": ".venv",
   "language": "python",
   "name": "python3"
  },
  "language_info": {
   "codemirror_mode": {
    "name": "ipython",
    "version": 3
   },
   "file_extension": ".py",
   "mimetype": "text/x-python",
   "name": "python",
   "nbconvert_exporter": "python",
   "pygments_lexer": "ipython3",
   "version": "3.13.7"
  }
 },
 "nbformat": 4,
 "nbformat_minor": 5
}
